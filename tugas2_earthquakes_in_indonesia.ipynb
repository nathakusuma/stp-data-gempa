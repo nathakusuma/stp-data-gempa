{
 "cells": [
  {
   "cell_type": "markdown",
   "id": "7301fb40f6674297",
   "metadata": {
    "id": "7301fb40f6674297"
   },
   "source": [
    "# Earthquakes in Indonesia - Part 2"
   ]
  },
  {
   "cell_type": "markdown",
   "id": "d564a67f",
   "metadata": {},
   "source": [
    "Anggota Kelompok:  \n",
    "1. I Putu Natha Kusuma (235150201111023)  \n",
    "2. Qori Imaduddin (235150200111023)  \n",
    "3. Yoga Raditya Nala (235150201111020)"
   ]
  },
  {
   "cell_type": "markdown",
   "id": "d1ee885d",
   "metadata": {},
   "source": [
    "Implementasi materi kuliah variabel acak kontinu, distribusi peluang kontinu, sampling dan distribusi sampling, penaksiran parameter, dan uji hipotesis."
   ]
  },
  {
   "cell_type": "markdown",
   "id": "da4e4a9944a01f20",
   "metadata": {
    "id": "da4e4a9944a01f20"
   },
   "source": [
    "## Setup"
   ]
  },
  {
   "cell_type": "code",
   "execution_count": 1,
   "id": "fe889883",
   "metadata": {
    "id": "fe889883"
   },
   "outputs": [],
   "source": [
    "#import dependencies\n",
    "import pandas as pd\n",
    "import numpy as np\n",
    "from scipy import stats"
   ]
  },
  {
   "cell_type": "code",
   "execution_count": 2,
   "id": "initial_id",
   "metadata": {
    "ExecuteTime": {
     "end_time": "2024-05-21T05:35:34.133079Z",
     "start_time": "2024-05-21T05:35:28.900534Z"
    },
    "colab": {
     "base_uri": "https://localhost:8080/",
     "height": 330
    },
    "id": "initial_id",
    "outputId": "b94c3877-a66f-4c91-f282-17ce335e4dfe"
   },
   "outputs": [
    {
     "data": {
      "text/html": [
       "<div>\n",
       "<style scoped>\n",
       "    .dataframe tbody tr th:only-of-type {\n",
       "        vertical-align: middle;\n",
       "    }\n",
       "\n",
       "    .dataframe tbody tr th {\n",
       "        vertical-align: top;\n",
       "    }\n",
       "\n",
       "    .dataframe thead th {\n",
       "        text-align: right;\n",
       "    }\n",
       "</style>\n",
       "<table border=\"1\" class=\"dataframe\">\n",
       "  <thead>\n",
       "    <tr style=\"text-align: right;\">\n",
       "      <th></th>\n",
       "      <th>tgl</th>\n",
       "      <th>ot</th>\n",
       "      <th>lat</th>\n",
       "      <th>lon</th>\n",
       "      <th>depth</th>\n",
       "      <th>mag</th>\n",
       "      <th>remark</th>\n",
       "      <th>strike1</th>\n",
       "      <th>dip1</th>\n",
       "      <th>rake1</th>\n",
       "      <th>strike2</th>\n",
       "      <th>dip2</th>\n",
       "      <th>rake2</th>\n",
       "    </tr>\n",
       "  </thead>\n",
       "  <tbody>\n",
       "    <tr>\n",
       "      <th>0</th>\n",
       "      <td>2008/11/01</td>\n",
       "      <td>21:02:43.058</td>\n",
       "      <td>-9.18</td>\n",
       "      <td>119.06</td>\n",
       "      <td>10</td>\n",
       "      <td>4.9</td>\n",
       "      <td>Sumba Region - Indonesia</td>\n",
       "      <td>NaN</td>\n",
       "      <td>NaN</td>\n",
       "      <td>NaN</td>\n",
       "      <td>NaN</td>\n",
       "      <td>NaN</td>\n",
       "      <td>NaN</td>\n",
       "    </tr>\n",
       "    <tr>\n",
       "      <th>1</th>\n",
       "      <td>2008/11/01</td>\n",
       "      <td>20:58:50.248</td>\n",
       "      <td>-6.55</td>\n",
       "      <td>129.64</td>\n",
       "      <td>10</td>\n",
       "      <td>4.6</td>\n",
       "      <td>Banda Sea</td>\n",
       "      <td>NaN</td>\n",
       "      <td>NaN</td>\n",
       "      <td>NaN</td>\n",
       "      <td>NaN</td>\n",
       "      <td>NaN</td>\n",
       "      <td>NaN</td>\n",
       "    </tr>\n",
       "    <tr>\n",
       "      <th>2</th>\n",
       "      <td>2008/11/01</td>\n",
       "      <td>17:43:12.941</td>\n",
       "      <td>-7.01</td>\n",
       "      <td>106.63</td>\n",
       "      <td>121</td>\n",
       "      <td>3.7</td>\n",
       "      <td>Java - Indonesia</td>\n",
       "      <td>NaN</td>\n",
       "      <td>NaN</td>\n",
       "      <td>NaN</td>\n",
       "      <td>NaN</td>\n",
       "      <td>NaN</td>\n",
       "      <td>NaN</td>\n",
       "    </tr>\n",
       "    <tr>\n",
       "      <th>3</th>\n",
       "      <td>2008/11/01</td>\n",
       "      <td>16:24:14.755</td>\n",
       "      <td>-3.30</td>\n",
       "      <td>127.85</td>\n",
       "      <td>10</td>\n",
       "      <td>3.2</td>\n",
       "      <td>Seram - Indonesia</td>\n",
       "      <td>NaN</td>\n",
       "      <td>NaN</td>\n",
       "      <td>NaN</td>\n",
       "      <td>NaN</td>\n",
       "      <td>NaN</td>\n",
       "      <td>NaN</td>\n",
       "    </tr>\n",
       "    <tr>\n",
       "      <th>4</th>\n",
       "      <td>2008/11/01</td>\n",
       "      <td>16:20:37.327</td>\n",
       "      <td>-6.41</td>\n",
       "      <td>129.54</td>\n",
       "      <td>70</td>\n",
       "      <td>4.3</td>\n",
       "      <td>Banda Sea</td>\n",
       "      <td>NaN</td>\n",
       "      <td>NaN</td>\n",
       "      <td>NaN</td>\n",
       "      <td>NaN</td>\n",
       "      <td>NaN</td>\n",
       "      <td>NaN</td>\n",
       "    </tr>\n",
       "  </tbody>\n",
       "</table>\n",
       "</div>"
      ],
      "text/plain": [
       "          tgl            ot   lat     lon  depth  mag  \\\n",
       "0  2008/11/01  21:02:43.058 -9.18  119.06     10  4.9   \n",
       "1  2008/11/01  20:58:50.248 -6.55  129.64     10  4.6   \n",
       "2  2008/11/01  17:43:12.941 -7.01  106.63    121  3.7   \n",
       "3  2008/11/01  16:24:14.755 -3.30  127.85     10  3.2   \n",
       "4  2008/11/01  16:20:37.327 -6.41  129.54     70  4.3   \n",
       "\n",
       "                     remark  strike1  dip1  rake1  strike2  dip2  rake2  \n",
       "0  Sumba Region - Indonesia      NaN   NaN    NaN      NaN   NaN    NaN  \n",
       "1                 Banda Sea      NaN   NaN    NaN      NaN   NaN    NaN  \n",
       "2          Java - Indonesia      NaN   NaN    NaN      NaN   NaN    NaN  \n",
       "3         Seram - Indonesia      NaN   NaN    NaN      NaN   NaN    NaN  \n",
       "4                 Banda Sea      NaN   NaN    NaN      NaN   NaN    NaN  "
      ]
     },
     "execution_count": 2,
     "metadata": {},
     "output_type": "execute_result"
    }
   ],
   "source": [
    "# Load the dataset\n",
    "file_path = 'https://raw.githubusercontent.com/nathakusuma/stp-data-gempa/main/katalog_gempa.csv'\n",
    "data = pd.read_csv(file_path)\n",
    "\n",
    "# Display the first few rows of the dataset\n",
    "data.head()"
   ]
  },
  {
   "cell_type": "markdown",
   "id": "3d8f00d881b13c95",
   "metadata": {
    "id": "3d8f00d881b13c95"
   },
   "source": [
    "Dataset ini mencatat informasi tentang gempa bumi. Berikut beberapa kolom yang tersedia:\n",
    "\n",
    "- `tgl`: Tanggal gempa\n",
    "- `ot`: Waktu kejadian\n",
    "- `lat`: Lintang\n",
    "- `lon`: Bujur\n",
    "- `depth`: Kedalaman\n",
    "- `mag`: Magnitudo\n",
    "- `remark`: Keterangan lokasi\n",
    "- `strike1`, `dip1`, `rake1`, `strike2`, `dip2`, `rake2`: Informasi tentang mekanisme sumber gempa (banyak nilai NaN)."
   ]
  },
  {
   "cell_type": "markdown",
   "id": "ee6a108907da6ceb",
   "metadata": {
    "id": "ee6a108907da6ceb"
   },
   "source": [
    "## Variabel Acak Kontinu"
   ]
  },
  {
   "cell_type": "markdown",
   "id": "ff4619a8b10f4089",
   "metadata": {
    "id": "ff4619a8b10f4089"
   },
   "source": [
    "Mari kita terapkan beberapa konsep dari variabel acak kontinu pada data ini, khususnya pada magnitudo (`mag`) dan kedalaman (`depth`) gempa.\n",
    "\n",
    "### Distribusi Probabilitas dan Fungsi Kerapatan Probabilitas (PDF)\n",
    "\n",
    "Untuk memahami distribusi magnitudo dan kedalaman gempa, kita akan memvisualisasikan distribusi probabilitasnya menggunakan histogram dan kemudian memperkirakan PDF-nya.\n"
   ]
  },
  {
   "cell_type": "code",
   "execution_count": 3,
   "id": "af56551a0596d5b",
   "metadata": {
    "ExecuteTime": {
     "end_time": "2024-05-21T05:35:36.748535Z",
     "start_time": "2024-05-21T05:35:34.136096Z"
    },
    "id": "af56551a0596d5b",
    "outputId": "354aba19-021f-4200-bc71-e7d8defe7d2b"
   },
   "outputs": [
    {
     "data": {
      "image/png": "[encoded data removed]",
      "text/plain": [
       "<Figure size 1400x600 with 2 Axes>"
      ]
     },
     "metadata": {},
     "output_type": "display_data"
    }
   ],
   "source": [
    "import matplotlib.pyplot as plt\n",
    "import seaborn as sns\n",
    "\n",
    "# Plot histogram dan PDF untuk magnitudo gempa\n",
    "plt.figure(figsize=(14, 6))\n",
    "\n",
    "plt.subplot(1, 2, 1)\n",
    "sns.histplot(data['mag'], kde=True)\n",
    "plt.title('Distribusi Magnitudo Gempa')\n",
    "plt.xlabel('Magnitudo')\n",
    "plt.ylabel('Frekuensi')\n",
    "\n",
    "# Plot histogram dan PDF untuk kedalaman gempa\n",
    "plt.subplot(1, 2, 2)\n",
    "sns.histplot(data['depth'], kde=True)\n",
    "plt.title('Distribusi Kedalaman Gempa')\n",
    "plt.xlabel('Kedalaman (km)')\n",
    "plt.ylabel('Frekuensi')\n",
    "\n",
    "plt.tight_layout()\n",
    "plt.show()"
   ]
  },
  {
   "cell_type": "markdown",
   "id": "5f46e06b783f2bf2",
   "metadata": {
    "id": "5f46e06b783f2bf2"
   },
   "source": [
    "1. **Distribusi Magnitudo Gempa**\n",
    "   - Histogram dan kurva PDF menunjukkan distribusi magnitudo gempa dalam data. Terlihat sebagian besar gempa memiliki magnitudo antara 3.0 dan 4.0.\n",
    "\n",
    "2. **Distribusi Kedalaman Gempa**\n",
    "   - Histogram dan kurva PDF untuk kedalaman gempa menunjukkan bahwa banyak gempa terjadi pada kedalaman sekitar 10 km, tetapi ada juga gempa pada berbagai kedalaman lainnya.\n"
   ]
  },
  {
   "cell_type": "markdown",
   "id": "eaf20d1f652dbfdb",
   "metadata": {
    "id": "eaf20d1f652dbfdb"
   },
   "source": [
    "### Perhitungan Probabilitas dalam Interval Tertentu\n",
    "\n",
    "Misalkan kita ingin menghitung probabilitas untuk menemukan gempa dengan magnitudo antara 3.0 dan 4.0, serta kedalaman antara 0 dan 50 km. Ini bisa dilakukan dengan menghitung proporsi data yang memenuhi kondisi tersebut.\n"
   ]
  },
  {
   "cell_type": "code",
   "execution_count": 4,
   "id": "b7c189a8fd0d04cb",
   "metadata": {
    "ExecuteTime": {
     "end_time": "2024-05-21T05:41:26.200023Z",
     "start_time": "2024-05-21T05:41:26.184702Z"
    },
    "id": "b7c189a8fd0d04cb",
    "outputId": "6a5a13ee-4656-482d-9e53-29feb4c36ea6"
   },
   "outputs": [
    {
     "data": {
      "text/plain": [
       "(0.4731340230602775, 0.7400282063152002)"
      ]
     },
     "execution_count": 4,
     "metadata": {},
     "output_type": "execute_result"
    }
   ],
   "source": [
    "# Probabilitas magnitudo antara 4.0 dan 5.0\n",
    "P_mag_3_4 = ((data['mag'] >= 3.0) & (data['mag'] <= 4.0)).mean()\n",
    "\n",
    "# Probabilitas kedalaman antara 0 dan 50 km\n",
    "P_depth_0_50 = ((data['depth'] >= 0) & (data['depth'] <= 50)).mean()\n",
    "\n",
    "P_mag_3_4, P_depth_0_50"
   ]
  },
  {
   "cell_type": "markdown",
   "id": "4842c85ed539d791",
   "metadata": {
    "id": "4842c85ed539d791"
   },
   "source": [
    "- **Probabilitas magnitudo antara 3.0 dan 4.0:**\n",
    "  - Probabilitas untuk menemukan gempa dengan magnitudo antara 3.0 dan 4.0 adalah sekitar $(0.4731)$.\n",
    "\n",
    "- **Probabilitas kedalaman antara 0 dan 50 km:**\n",
    "  - Probabilitas untuk menemukan gempa dengan kedalaman antara 0 dan 50 km adalah sekitar $(0.7400)$."
   ]
  },
  {
   "cell_type": "markdown",
   "id": "ec5d91feb63df2f3",
   "metadata": {
    "id": "ec5d91feb63df2f3"
   },
   "source": [
    "### Distribusi Peluang Gabungan\n",
    "\n",
    "Selanjutnya, kita dapat melihat distribusi peluang gabungan untuk magnitudo dan kedalaman gempa. Ini melibatkan melihat bagaimana dua variabel ini berinteraksi satu sama lain.\n"
   ]
  },
  {
   "cell_type": "code",
   "execution_count": 5,
   "id": "b0e5f95c52c3ff9c",
   "metadata": {
    "ExecuteTime": {
     "end_time": "2024-05-21T05:35:37.471125Z",
     "start_time": "2024-05-21T05:35:36.766911Z"
    },
    "id": "b0e5f95c52c3ff9c",
    "outputId": "ba1d9eaf-9df1-41b7-a7d8-645bef0905d5"
   },
   "outputs": [
    {
     "data": {
      "image/png": "[encoded data removed]",
      "text/plain": [
       "<Figure size 1000x600 with 1 Axes>"
      ]
     },
     "metadata": {},
     "output_type": "display_data"
    }
   ],
   "source": [
    "# Scatter plot untuk melihat distribusi gabungan\n",
    "plt.figure(figsize=(10, 6))\n",
    "sns.scatterplot(x=data['mag'], y=data['depth'])\n",
    "plt.title('Distribusi Gabungan Magnitudo dan Kedalaman Gempa')\n",
    "plt.xlabel('Magnitudo')\n",
    "plt.ylabel('Kedalaman (km)')\n",
    "plt.show()"
   ]
  },
  {
   "cell_type": "markdown",
   "id": "54ecca0a433cdb3c",
   "metadata": {
    "id": "54ecca0a433cdb3c"
   },
   "source": [
    "- **Scatter Plot Magnitudo vs. Kedalaman**\n",
    "  - Scatter plot menunjukkan hubungan antara magnitudo dan kedalaman gempa. Tidak terlihat adanya pola yang jelas antara kedua variabel ini, yang menunjukkan bahwa magnitudo gempa tidak secara langsung terkait dengan kedalaman gempa.\n"
   ]
  },
  {
   "cell_type": "markdown",
   "id": "76abdf67ebf4524",
   "metadata": {
    "id": "76abdf67ebf4524"
   },
   "source": [
    "## Distribusi Peluang Kontinu"
   ]
  },
  {
   "cell_type": "markdown",
   "id": "a39c9bfa098b69cd",
   "metadata": {
    "id": "a39c9bfa098b69cd"
   },
   "source": [
    "Untuk aplikasi materi ini, kita bisa menggunakan data dari kolom `mag` (magnitudo) gempa."
   ]
  },
  {
   "cell_type": "markdown",
   "id": "3f8ed4dd981b6b80",
   "metadata": {
    "id": "3f8ed4dd981b6b80"
   },
   "source": [
    "### Distribusi Uniform Kontinu"
   ]
  },
  {
   "cell_type": "markdown",
   "id": "22adcf1cb27b7a9c",
   "metadata": {
    "id": "22adcf1cb27b7a9c"
   },
   "source": [
    "**Langkah-langkah Analisis**:\n",
    "- Tentukan interval distribusi uniform dan hitung fungsi rapat probabilitasnya.\n",
    "- Contoh: Jika kita anggap magnitudo gempa tersebar merata antara nilai minimum dan maksimum.\n",
    "\n",
    "**Interval dan Fungsi Rapat Probabilitas**:\n",
    "- Interval [A, B] di mana A adalah magnitudo minimum dan B adalah magnitudo maksimum.\n",
    "- Fungsi rapat probabilitas $( f(x) = \\frac{1}{B-A} )$ untuk $( A \\leq x \\leq B )$.\n",
    "\n",
    "**Menghitung Parameter dan Fungsi Distribusi**:"
   ]
  },
  {
   "cell_type": "code",
   "execution_count": 6,
   "id": "fa08e62435e274b1",
   "metadata": {
    "ExecuteTime": {
     "end_time": "2024-05-21T06:16:58.105568Z",
     "start_time": "2024-05-21T06:16:58.096219Z"
    },
    "id": "fa08e62435e274b1",
    "outputId": "a1a3414d-db35-444d-e772-a32260b2d6d2"
   },
   "outputs": [
    {
     "data": {
      "text/plain": [
       "(1.0, 7.9, 0.14492753623188406)"
      ]
     },
     "execution_count": 6,
     "metadata": {},
     "output_type": "execute_result"
    }
   ],
   "source": [
    "# Menghitung interval [A, B]\n",
    "A = data['mag'].min()\n",
    "B = data['mag'].max()\n",
    "\n",
    "# Fungsi rapat probabilitas\n",
    "f_uniform = 1 / (B - A)\n",
    "\n",
    "A, B, f_uniform"
   ]
  },
  {
   "cell_type": "markdown",
   "id": "7903250c1e320d18",
   "metadata": {
    "id": "7903250c1e320d18"
   },
   "source": [
    "**Hasil Analisis**\n",
    "- **Interval [A, B]**:\n",
    "  - A (min): 1.0\n",
    "  - B (max): 7.9\n",
    "- **Fungsi Rapat Probabilitas (f_uniform)**:\n",
    "  - $( f(x) = \\frac{1}{B - A} = 0.1449 )$"
   ]
  },
  {
   "cell_type": "markdown",
   "id": "3f74e7cd798d1841",
   "metadata": {
    "id": "3f74e7cd798d1841"
   },
   "source": [
    "### Distribusi Normal"
   ]
  },
  {
   "cell_type": "markdown",
   "id": "e3ccfe8701fd6e6d",
   "metadata": {
    "id": "e3ccfe8701fd6e6d"
   },
   "source": [
    "**Langkah-langkah Analisis**:\n",
    "   - Hitung parameter mean (μ) dan standar deviasi (σ) dari data magnitudo gempa.\n",
    "   - Gunakan distribusi normal untuk menghitung peluang magnitudo gempa dalam rentang tertentu.\n",
    "\n",
    "**Hitung Mean (μ) dan Standar Deviasi (σ)**:\n",
    "   - Mean (μ) = rata-rata magnitudo gempa.\n",
    "   - Standar deviasi (σ) = standar deviasi magnitudo gempa.\n",
    "\n",
    "**Peluang dalam Rentang Tertentu**:\n",
    "   - Gunakan fungsi distribusi normal untuk menghitung peluang magnitudo gempa dalam rentang tertentu, misalnya antara 4 dan 5.\n",
    "\n",
    "**Menghitung Parameter dan Fungsi Distribusi**:"
   ]
  },
  {
   "cell_type": "code",
   "execution_count": 7,
   "id": "67b8071ce28b169b",
   "metadata": {
    "ExecuteTime": {
     "end_time": "2024-05-21T06:44:44.905185Z",
     "start_time": "2024-05-21T06:44:44.892296Z"
    },
    "id": "67b8071ce28b169b",
    "outputId": "7a0f3f98-0e5d-4a9e-aba8-7540e2aa1b23"
   },
   "outputs": [
    {
     "data": {
      "text/plain": [
       "(3.592788011239463, 0.834042236781118)"
      ]
     },
     "execution_count": 7,
     "metadata": {},
     "output_type": "execute_result"
    }
   ],
   "source": [
    "# Menghitung mean (μ) dan standar deviasi (σ)\n",
    "mean_mag = data['mag'].mean()\n",
    "std_mag = data['mag'].std()\n",
    "\n",
    "mean_mag, std_mag"
   ]
  },
  {
   "cell_type": "markdown",
   "id": "68b667018b871486",
   "metadata": {
    "id": "68b667018b871486"
   },
   "source": [
    "**Menghitung Peluang dalam Rentang Tertentu**:"
   ]
  },
  {
   "cell_type": "code",
   "execution_count": 8,
   "id": "b1ca856e30be4dfc",
   "metadata": {
    "ExecuteTime": {
     "end_time": "2024-05-21T06:45:09.709873Z",
     "start_time": "2024-05-21T06:45:09.699262Z"
    },
    "id": "b1ca856e30be4dfc",
    "outputId": "80890435-3787-46be-eb05-ccdd25e2c495"
   },
   "outputs": [
    {
     "data": {
      "text/plain": [
       "0.2669096486986331"
      ]
     },
     "execution_count": 8,
     "metadata": {},
     "output_type": "execute_result"
    }
   ],
   "source": [
    "from scipy.stats import norm\n",
    "\n",
    "# Rentang magnitudo\n",
    "x1 = 4\n",
    "x2 = 5\n",
    "\n",
    "# Menghitung peluang P(x1 < X < x2)\n",
    "p = norm.cdf(x2, mean_mag, std_mag) - norm.cdf(x1, mean_mag, std_mag)\n",
    "\n",
    "p"
   ]
  },
  {
   "cell_type": "markdown",
   "id": "b4373242db8f6f20",
   "metadata": {
    "id": "b4373242db8f6f20"
   },
   "source": [
    "**Hasil Analisis**\n",
    "- **Mean (μ)**: 3.59\n",
    "- **Standar Deviasi (σ)**: 0.83\n",
    "- **Peluang P(4 < X < 5)**: 0.267"
   ]
  },
  {
   "cell_type": "markdown",
   "id": "53294c6a10001e9e",
   "metadata": {
    "id": "53294c6a10001e9e"
   },
   "source": [
    "Ini berarti bahwa peluang magnitudo gempa terjadi antara 4 dan 5 adalah sekitar 26.7% berdasarkan distribusi normal. Selain itu, untuk distribusi uniform kontinu, fungsi rapat probabilitasnya adalah 0.1449 dalam interval 1.0 hingga 7.9."
   ]
  },
  {
   "cell_type": "markdown",
   "id": "700896d2",
   "metadata": {
    "id": "700896d2"
   },
   "source": [
    "## Sampling dan Distribusi Sampling"
   ]
  },
  {
   "cell_type": "markdown",
   "id": "bf020c01",
   "metadata": {
    "id": "bf020c01"
   },
   "source": [
    "Sampel merupakan sekumpulan data yang diambil atau diseleksi dari suatu populasi yg pada dasarnya adalah bagian dari populasi. Terdapat dua jenis metode sampling, yaitu sampling probabilitas dan sampling non probabilitas. Beberapa metode dalam pengambilan sampel/sampling probabilitas, yaitu sampel acak, sampel berstrata, sampel klaster, dan sampel sistematis."
   ]
  },
  {
   "cell_type": "markdown",
   "id": "87b5ee89",
   "metadata": {
    "id": "87b5ee89"
   },
   "source": [
    "Sementara itu pada sampling non probabilitas, terdapat sampel haphazard, sampel snowball, dan sampel purposive. Pada notebook ini, penulis memilih untuk menggunakan sampel probabilitas, karena sudah disediakan oleh library pandas."
   ]
  },
  {
   "cell_type": "markdown",
   "id": "d93733da",
   "metadata": {
    "id": "d93733da"
   },
   "source": [
    "### Sampel Acak"
   ]
  },
  {
   "cell_type": "code",
   "execution_count": 9,
   "id": "f939e571",
   "metadata": {
    "id": "f939e571",
    "outputId": "8124d4a8-e9b2-481e-b566-49921b78d349"
   },
   "outputs": [
    {
     "data": {
      "text/html": [
       "<div>\n",
       "<style scoped>\n",
       "    .dataframe tbody tr th:only-of-type {\n",
       "        vertical-align: middle;\n",
       "    }\n",
       "\n",
       "    .dataframe tbody tr th {\n",
       "        vertical-align: top;\n",
       "    }\n",
       "\n",
       "    .dataframe thead th {\n",
       "        text-align: right;\n",
       "    }\n",
       "</style>\n",
       "<table border=\"1\" class=\"dataframe\">\n",
       "  <thead>\n",
       "    <tr style=\"text-align: right;\">\n",
       "      <th></th>\n",
       "      <th>tgl</th>\n",
       "      <th>ot</th>\n",
       "      <th>lat</th>\n",
       "      <th>lon</th>\n",
       "      <th>depth</th>\n",
       "      <th>mag</th>\n",
       "      <th>remark</th>\n",
       "      <th>strike1</th>\n",
       "      <th>dip1</th>\n",
       "      <th>rake1</th>\n",
       "      <th>strike2</th>\n",
       "      <th>dip2</th>\n",
       "      <th>rake2</th>\n",
       "    </tr>\n",
       "  </thead>\n",
       "  <tbody>\n",
       "    <tr>\n",
       "      <th>78915</th>\n",
       "      <td>2021/11/10</td>\n",
       "      <td>17:46:40.553</td>\n",
       "      <td>-4.30</td>\n",
       "      <td>134.22</td>\n",
       "      <td>10</td>\n",
       "      <td>6.0</td>\n",
       "      <td>Irian Jaya Region - Indonesia</td>\n",
       "      <td>336.2</td>\n",
       "      <td>89.5</td>\n",
       "      <td>168.0</td>\n",
       "      <td>66.26</td>\n",
       "      <td>78.0</td>\n",
       "      <td>0.5</td>\n",
       "    </tr>\n",
       "    <tr>\n",
       "      <th>15126</th>\n",
       "      <td>2013/05/03</td>\n",
       "      <td>07:10:59.622</td>\n",
       "      <td>1.35</td>\n",
       "      <td>127.00</td>\n",
       "      <td>58</td>\n",
       "      <td>4.0</td>\n",
       "      <td>Halmahera - Indonesia</td>\n",
       "      <td>NaN</td>\n",
       "      <td>NaN</td>\n",
       "      <td>NaN</td>\n",
       "      <td>NaN</td>\n",
       "      <td>NaN</td>\n",
       "      <td>NaN</td>\n",
       "    </tr>\n",
       "    <tr>\n",
       "      <th>12422</th>\n",
       "      <td>2012/06/07</td>\n",
       "      <td>23:17:34.401</td>\n",
       "      <td>-0.74</td>\n",
       "      <td>133.40</td>\n",
       "      <td>27</td>\n",
       "      <td>4.2</td>\n",
       "      <td>Irian Jaya Region - Indonesia</td>\n",
       "      <td>NaN</td>\n",
       "      <td>NaN</td>\n",
       "      <td>NaN</td>\n",
       "      <td>NaN</td>\n",
       "      <td>NaN</td>\n",
       "      <td>NaN</td>\n",
       "    </tr>\n",
       "    <tr>\n",
       "      <th>27805</th>\n",
       "      <td>2016/09/20</td>\n",
       "      <td>13:10:51.499</td>\n",
       "      <td>-1.96</td>\n",
       "      <td>138.82</td>\n",
       "      <td>40</td>\n",
       "      <td>5.3</td>\n",
       "      <td>Near North Coast of Irian Jaya</td>\n",
       "      <td>NaN</td>\n",
       "      <td>NaN</td>\n",
       "      <td>NaN</td>\n",
       "      <td>NaN</td>\n",
       "      <td>NaN</td>\n",
       "      <td>NaN</td>\n",
       "    </tr>\n",
       "    <tr>\n",
       "      <th>30085</th>\n",
       "      <td>2017/02/13</td>\n",
       "      <td>21:03:48.378</td>\n",
       "      <td>3.35</td>\n",
       "      <td>98.43</td>\n",
       "      <td>13</td>\n",
       "      <td>2.7</td>\n",
       "      <td>Northern Sumatra - Indonesia</td>\n",
       "      <td>NaN</td>\n",
       "      <td>NaN</td>\n",
       "      <td>NaN</td>\n",
       "      <td>NaN</td>\n",
       "      <td>NaN</td>\n",
       "      <td>NaN</td>\n",
       "    </tr>\n",
       "    <tr>\n",
       "      <th>16779</th>\n",
       "      <td>2014/02/01</td>\n",
       "      <td>04:04:10.059</td>\n",
       "      <td>2.66</td>\n",
       "      <td>125.99</td>\n",
       "      <td>13</td>\n",
       "      <td>4.0</td>\n",
       "      <td>Talaud Islands - Indonesia</td>\n",
       "      <td>NaN</td>\n",
       "      <td>NaN</td>\n",
       "      <td>NaN</td>\n",
       "      <td>NaN</td>\n",
       "      <td>NaN</td>\n",
       "      <td>NaN</td>\n",
       "    </tr>\n",
       "    <tr>\n",
       "      <th>28508</th>\n",
       "      <td>2016/11/07</td>\n",
       "      <td>18:16:48.800</td>\n",
       "      <td>-0.21</td>\n",
       "      <td>123.40</td>\n",
       "      <td>107</td>\n",
       "      <td>4.7</td>\n",
       "      <td>Minahassa Peninsula - Sulawesi</td>\n",
       "      <td>NaN</td>\n",
       "      <td>NaN</td>\n",
       "      <td>NaN</td>\n",
       "      <td>NaN</td>\n",
       "      <td>NaN</td>\n",
       "      <td>NaN</td>\n",
       "    </tr>\n",
       "    <tr>\n",
       "      <th>64734</th>\n",
       "      <td>2020/05/11</td>\n",
       "      <td>19:25:19.318</td>\n",
       "      <td>-2.59</td>\n",
       "      <td>139.25</td>\n",
       "      <td>56</td>\n",
       "      <td>4.1</td>\n",
       "      <td>Near North Coast of Irian Jaya</td>\n",
       "      <td>NaN</td>\n",
       "      <td>NaN</td>\n",
       "      <td>NaN</td>\n",
       "      <td>NaN</td>\n",
       "      <td>NaN</td>\n",
       "      <td>NaN</td>\n",
       "    </tr>\n",
       "    <tr>\n",
       "      <th>47080</th>\n",
       "      <td>2018/11/05</td>\n",
       "      <td>23:05:31.578</td>\n",
       "      <td>-2.40</td>\n",
       "      <td>119.56</td>\n",
       "      <td>10</td>\n",
       "      <td>2.9</td>\n",
       "      <td>Sulawesi - Indonesia</td>\n",
       "      <td>NaN</td>\n",
       "      <td>NaN</td>\n",
       "      <td>NaN</td>\n",
       "      <td>NaN</td>\n",
       "      <td>NaN</td>\n",
       "      <td>NaN</td>\n",
       "    </tr>\n",
       "    <tr>\n",
       "      <th>65442</th>\n",
       "      <td>2020/06/13</td>\n",
       "      <td>12:12:23.264</td>\n",
       "      <td>-8.96</td>\n",
       "      <td>117.89</td>\n",
       "      <td>10</td>\n",
       "      <td>4.7</td>\n",
       "      <td>Sumbawa Region - Indonesia</td>\n",
       "      <td>NaN</td>\n",
       "      <td>NaN</td>\n",
       "      <td>NaN</td>\n",
       "      <td>NaN</td>\n",
       "      <td>NaN</td>\n",
       "      <td>NaN</td>\n",
       "    </tr>\n",
       "  </tbody>\n",
       "</table>\n",
       "</div>"
      ],
      "text/plain": [
       "              tgl            ot   lat     lon  depth  mag  \\\n",
       "78915  2021/11/10  17:46:40.553 -4.30  134.22     10  6.0   \n",
       "15126  2013/05/03  07:10:59.622  1.35  127.00     58  4.0   \n",
       "12422  2012/06/07  23:17:34.401 -0.74  133.40     27  4.2   \n",
       "27805  2016/09/20  13:10:51.499 -1.96  138.82     40  5.3   \n",
       "30085  2017/02/13  21:03:48.378  3.35   98.43     13  2.7   \n",
       "16779  2014/02/01  04:04:10.059  2.66  125.99     13  4.0   \n",
       "28508  2016/11/07  18:16:48.800 -0.21  123.40    107  4.7   \n",
       "64734  2020/05/11  19:25:19.318 -2.59  139.25     56  4.1   \n",
       "47080  2018/11/05  23:05:31.578 -2.40  119.56     10  2.9   \n",
       "65442  2020/06/13  12:12:23.264 -8.96  117.89     10  4.7   \n",
       "\n",
       "                               remark  strike1  dip1  rake1  strike2  dip2  \\\n",
       "78915   Irian Jaya Region - Indonesia    336.2  89.5  168.0    66.26  78.0   \n",
       "15126           Halmahera - Indonesia      NaN   NaN    NaN      NaN   NaN   \n",
       "12422   Irian Jaya Region - Indonesia      NaN   NaN    NaN      NaN   NaN   \n",
       "27805  Near North Coast of Irian Jaya      NaN   NaN    NaN      NaN   NaN   \n",
       "30085    Northern Sumatra - Indonesia      NaN   NaN    NaN      NaN   NaN   \n",
       "16779      Talaud Islands - Indonesia      NaN   NaN    NaN      NaN   NaN   \n",
       "28508  Minahassa Peninsula - Sulawesi      NaN   NaN    NaN      NaN   NaN   \n",
       "64734  Near North Coast of Irian Jaya      NaN   NaN    NaN      NaN   NaN   \n",
       "47080            Sulawesi - Indonesia      NaN   NaN    NaN      NaN   NaN   \n",
       "65442      Sumbawa Region - Indonesia      NaN   NaN    NaN      NaN   NaN   \n",
       "\n",
       "       rake2  \n",
       "78915    0.5  \n",
       "15126    NaN  \n",
       "12422    NaN  \n",
       "27805    NaN  \n",
       "30085    NaN  \n",
       "16779    NaN  \n",
       "28508    NaN  \n",
       "64734    NaN  \n",
       "47080    NaN  \n",
       "65442    NaN  "
      ]
     },
     "execution_count": 9,
     "metadata": {},
     "output_type": "execute_result"
    }
   ],
   "source": [
    "acak_df = data.sample(n=10)\n",
    "acak_df"
   ]
  },
  {
   "cell_type": "code",
   "execution_count": 10,
   "id": "4dde987c",
   "metadata": {
    "id": "4dde987c",
    "outputId": "71ee4918-207d-4e2c-b2b7-c9402027f17e"
   },
   "outputs": [
    {
     "data": {
      "text/html": [
       "<div>\n",
       "<style scoped>\n",
       "    .dataframe tbody tr th:only-of-type {\n",
       "        vertical-align: middle;\n",
       "    }\n",
       "\n",
       "    .dataframe tbody tr th {\n",
       "        vertical-align: top;\n",
       "    }\n",
       "\n",
       "    .dataframe thead th {\n",
       "        text-align: right;\n",
       "    }\n",
       "</style>\n",
       "<table border=\"1\" class=\"dataframe\">\n",
       "  <thead>\n",
       "    <tr style=\"text-align: right;\">\n",
       "      <th></th>\n",
       "      <th>lat</th>\n",
       "      <th>lon</th>\n",
       "      <th>depth</th>\n",
       "      <th>mag</th>\n",
       "      <th>strike1</th>\n",
       "      <th>dip1</th>\n",
       "      <th>rake1</th>\n",
       "      <th>strike2</th>\n",
       "      <th>dip2</th>\n",
       "      <th>rake2</th>\n",
       "    </tr>\n",
       "  </thead>\n",
       "  <tbody>\n",
       "    <tr>\n",
       "      <th>count</th>\n",
       "      <td>10.000000</td>\n",
       "      <td>10.000000</td>\n",
       "      <td>10.000000</td>\n",
       "      <td>10.000000</td>\n",
       "      <td>1.0</td>\n",
       "      <td>1.0</td>\n",
       "      <td>1.0</td>\n",
       "      <td>1.00</td>\n",
       "      <td>1.0</td>\n",
       "      <td>1.0</td>\n",
       "    </tr>\n",
       "    <tr>\n",
       "      <th>mean</th>\n",
       "      <td>-1.380000</td>\n",
       "      <td>125.796000</td>\n",
       "      <td>34.400000</td>\n",
       "      <td>4.260000</td>\n",
       "      <td>336.2</td>\n",
       "      <td>89.5</td>\n",
       "      <td>168.0</td>\n",
       "      <td>66.26</td>\n",
       "      <td>78.0</td>\n",
       "      <td>0.5</td>\n",
       "    </tr>\n",
       "    <tr>\n",
       "      <th>std</th>\n",
       "      <td>3.601691</td>\n",
       "      <td>12.188054</td>\n",
       "      <td>31.767209</td>\n",
       "      <td>0.996884</td>\n",
       "      <td>NaN</td>\n",
       "      <td>NaN</td>\n",
       "      <td>NaN</td>\n",
       "      <td>NaN</td>\n",
       "      <td>NaN</td>\n",
       "      <td>NaN</td>\n",
       "    </tr>\n",
       "    <tr>\n",
       "      <th>min</th>\n",
       "      <td>-8.960000</td>\n",
       "      <td>98.430000</td>\n",
       "      <td>10.000000</td>\n",
       "      <td>2.700000</td>\n",
       "      <td>336.2</td>\n",
       "      <td>89.5</td>\n",
       "      <td>168.0</td>\n",
       "      <td>66.26</td>\n",
       "      <td>78.0</td>\n",
       "      <td>0.5</td>\n",
       "    </tr>\n",
       "    <tr>\n",
       "      <th>25%</th>\n",
       "      <td>-2.542500</td>\n",
       "      <td>120.520000</td>\n",
       "      <td>10.750000</td>\n",
       "      <td>4.000000</td>\n",
       "      <td>336.2</td>\n",
       "      <td>89.5</td>\n",
       "      <td>168.0</td>\n",
       "      <td>66.26</td>\n",
       "      <td>78.0</td>\n",
       "      <td>0.5</td>\n",
       "    </tr>\n",
       "    <tr>\n",
       "      <th>50%</th>\n",
       "      <td>-1.350000</td>\n",
       "      <td>126.495000</td>\n",
       "      <td>20.000000</td>\n",
       "      <td>4.150000</td>\n",
       "      <td>336.2</td>\n",
       "      <td>89.5</td>\n",
       "      <td>168.0</td>\n",
       "      <td>66.26</td>\n",
       "      <td>78.0</td>\n",
       "      <td>0.5</td>\n",
       "    </tr>\n",
       "    <tr>\n",
       "      <th>75%</th>\n",
       "      <td>0.960000</td>\n",
       "      <td>134.015000</td>\n",
       "      <td>52.000000</td>\n",
       "      <td>4.700000</td>\n",
       "      <td>336.2</td>\n",
       "      <td>89.5</td>\n",
       "      <td>168.0</td>\n",
       "      <td>66.26</td>\n",
       "      <td>78.0</td>\n",
       "      <td>0.5</td>\n",
       "    </tr>\n",
       "    <tr>\n",
       "      <th>max</th>\n",
       "      <td>3.350000</td>\n",
       "      <td>139.250000</td>\n",
       "      <td>107.000000</td>\n",
       "      <td>6.000000</td>\n",
       "      <td>336.2</td>\n",
       "      <td>89.5</td>\n",
       "      <td>168.0</td>\n",
       "      <td>66.26</td>\n",
       "      <td>78.0</td>\n",
       "      <td>0.5</td>\n",
       "    </tr>\n",
       "  </tbody>\n",
       "</table>\n",
       "</div>"
      ],
      "text/plain": [
       "             lat         lon       depth        mag  strike1  dip1  rake1  \\\n",
       "count  10.000000   10.000000   10.000000  10.000000      1.0   1.0    1.0   \n",
       "mean   -1.380000  125.796000   34.400000   4.260000    336.2  89.5  168.0   \n",
       "std     3.601691   12.188054   31.767209   0.996884      NaN   NaN    NaN   \n",
       "min    -8.960000   98.430000   10.000000   2.700000    336.2  89.5  168.0   \n",
       "25%    -2.542500  120.520000   10.750000   4.000000    336.2  89.5  168.0   \n",
       "50%    -1.350000  126.495000   20.000000   4.150000    336.2  89.5  168.0   \n",
       "75%     0.960000  134.015000   52.000000   4.700000    336.2  89.5  168.0   \n",
       "max     3.350000  139.250000  107.000000   6.000000    336.2  89.5  168.0   \n",
       "\n",
       "       strike2  dip2  rake2  \n",
       "count     1.00   1.0    1.0  \n",
       "mean     66.26  78.0    0.5  \n",
       "std        NaN   NaN    NaN  \n",
       "min      66.26  78.0    0.5  \n",
       "25%      66.26  78.0    0.5  \n",
       "50%      66.26  78.0    0.5  \n",
       "75%      66.26  78.0    0.5  \n",
       "max      66.26  78.0    0.5  "
      ]
     },
     "execution_count": 10,
     "metadata": {},
     "output_type": "execute_result"
    }
   ],
   "source": [
    "acak_df.describe()"
   ]
  },
  {
   "cell_type": "markdown",
   "id": "db7478e9",
   "metadata": {
    "id": "db7478e9"
   },
   "source": [
    "Kode di atas akan menghasilkan 10 sampel data gempa secara acak tanpa ketentuan khusus. Setiap row atau data pada kumpulan data tersebut memiliki peluang yang sama untuk terpilih sebagai sampel."
   ]
  },
  {
   "cell_type": "markdown",
   "id": "748e6ff3",
   "metadata": {
    "id": "748e6ff3"
   },
   "source": [
    "### Sampel Strata"
   ]
  },
  {
   "cell_type": "code",
   "execution_count": 11,
   "id": "6ef610a3",
   "metadata": {
    "id": "6ef610a3",
    "outputId": "e2d0aff4-3287-4e04-bf92-72011b81966f",
    "scrolled": false
   },
   "outputs": [
    {
     "data": {
      "text/html": [
       "<div>\n",
       "<style scoped>\n",
       "    .dataframe tbody tr th:only-of-type {\n",
       "        vertical-align: middle;\n",
       "    }\n",
       "\n",
       "    .dataframe tbody tr th {\n",
       "        vertical-align: top;\n",
       "    }\n",
       "\n",
       "    .dataframe thead th {\n",
       "        text-align: right;\n",
       "    }\n",
       "</style>\n",
       "<table border=\"1\" class=\"dataframe\">\n",
       "  <thead>\n",
       "    <tr style=\"text-align: right;\">\n",
       "      <th></th>\n",
       "      <th>tgl</th>\n",
       "      <th>ot</th>\n",
       "      <th>lat</th>\n",
       "      <th>lon</th>\n",
       "      <th>depth</th>\n",
       "      <th>mag</th>\n",
       "      <th>remark</th>\n",
       "      <th>strike1</th>\n",
       "      <th>dip1</th>\n",
       "      <th>rake1</th>\n",
       "      <th>strike2</th>\n",
       "      <th>dip2</th>\n",
       "      <th>rake2</th>\n",
       "      <th>magnitude_level</th>\n",
       "    </tr>\n",
       "  </thead>\n",
       "  <tbody>\n",
       "    <tr>\n",
       "      <th>856</th>\n",
       "      <td>2009/02/23</td>\n",
       "      <td>01:34:23.891</td>\n",
       "      <td>3.74</td>\n",
       "      <td>126.81</td>\n",
       "      <td>45</td>\n",
       "      <td>4.4</td>\n",
       "      <td>Talaud Islands - Indonesia</td>\n",
       "      <td>NaN</td>\n",
       "      <td>NaN</td>\n",
       "      <td>NaN</td>\n",
       "      <td>NaN</td>\n",
       "      <td>NaN</td>\n",
       "      <td>NaN</td>\n",
       "      <td>4.0-4.9</td>\n",
       "    </tr>\n",
       "    <tr>\n",
       "      <th>86200</th>\n",
       "      <td>2022/07/02</td>\n",
       "      <td>20:30:48.047</td>\n",
       "      <td>-7.35</td>\n",
       "      <td>126.14</td>\n",
       "      <td>434</td>\n",
       "      <td>4.3</td>\n",
       "      <td>Banda Sea</td>\n",
       "      <td>NaN</td>\n",
       "      <td>NaN</td>\n",
       "      <td>NaN</td>\n",
       "      <td>NaN</td>\n",
       "      <td>NaN</td>\n",
       "      <td>NaN</td>\n",
       "      <td>4.0-4.9</td>\n",
       "    </tr>\n",
       "    <tr>\n",
       "      <th>45386</th>\n",
       "      <td>2018/09/23</td>\n",
       "      <td>03:09:39.862</td>\n",
       "      <td>0.47</td>\n",
       "      <td>126.30</td>\n",
       "      <td>46</td>\n",
       "      <td>5.2</td>\n",
       "      <td>Northern Molucca Sea</td>\n",
       "      <td>350.4</td>\n",
       "      <td>61.3</td>\n",
       "      <td>24.0</td>\n",
       "      <td>248.36</td>\n",
       "      <td>69.1</td>\n",
       "      <td>149.1</td>\n",
       "      <td>5.0-5.9</td>\n",
       "    </tr>\n",
       "    <tr>\n",
       "      <th>70046</th>\n",
       "      <td>2020/12/28</td>\n",
       "      <td>07:31:11.847</td>\n",
       "      <td>-0.14</td>\n",
       "      <td>124.61</td>\n",
       "      <td>57</td>\n",
       "      <td>5.3</td>\n",
       "      <td>Southern Molucca Sea</td>\n",
       "      <td>NaN</td>\n",
       "      <td>NaN</td>\n",
       "      <td>NaN</td>\n",
       "      <td>NaN</td>\n",
       "      <td>NaN</td>\n",
       "      <td>NaN</td>\n",
       "      <td>5.0-5.9</td>\n",
       "    </tr>\n",
       "    <tr>\n",
       "      <th>79574</th>\n",
       "      <td>2021/12/04</td>\n",
       "      <td>23:47:57.589</td>\n",
       "      <td>4.07</td>\n",
       "      <td>128.06</td>\n",
       "      <td>168</td>\n",
       "      <td>6.1</td>\n",
       "      <td>North of Halmahera - Indonesia</td>\n",
       "      <td>NaN</td>\n",
       "      <td>NaN</td>\n",
       "      <td>NaN</td>\n",
       "      <td>NaN</td>\n",
       "      <td>NaN</td>\n",
       "      <td>NaN</td>\n",
       "      <td>6.0-6.9</td>\n",
       "    </tr>\n",
       "    <tr>\n",
       "      <th>92504</th>\n",
       "      <td>2023/01/18</td>\n",
       "      <td>00:34:46.442</td>\n",
       "      <td>-0.02</td>\n",
       "      <td>123.27</td>\n",
       "      <td>144</td>\n",
       "      <td>6.1</td>\n",
       "      <td>Minahassa Peninsula - Sulawesi</td>\n",
       "      <td>71.3</td>\n",
       "      <td>56.3</td>\n",
       "      <td>94.6</td>\n",
       "      <td>243.10</td>\n",
       "      <td>34.0</td>\n",
       "      <td>83.2</td>\n",
       "      <td>6.0-6.9</td>\n",
       "    </tr>\n",
       "    <tr>\n",
       "      <th>70613</th>\n",
       "      <td>2021/01/21</td>\n",
       "      <td>12:23:07.988</td>\n",
       "      <td>4.95</td>\n",
       "      <td>127.46</td>\n",
       "      <td>116</td>\n",
       "      <td>7.0</td>\n",
       "      <td>Talaud Islands - Indonesia</td>\n",
       "      <td>NaN</td>\n",
       "      <td>NaN</td>\n",
       "      <td>NaN</td>\n",
       "      <td>NaN</td>\n",
       "      <td>NaN</td>\n",
       "      <td>NaN</td>\n",
       "      <td>7.0-7.9</td>\n",
       "    </tr>\n",
       "    <tr>\n",
       "      <th>80796</th>\n",
       "      <td>2021/12/29</td>\n",
       "      <td>18:25:53.213</td>\n",
       "      <td>-7.71</td>\n",
       "      <td>127.55</td>\n",
       "      <td>187</td>\n",
       "      <td>7.3</td>\n",
       "      <td>Banda Sea</td>\n",
       "      <td>NaN</td>\n",
       "      <td>NaN</td>\n",
       "      <td>NaN</td>\n",
       "      <td>NaN</td>\n",
       "      <td>NaN</td>\n",
       "      <td>NaN</td>\n",
       "      <td>7.0-7.9</td>\n",
       "    </tr>\n",
       "  </tbody>\n",
       "</table>\n",
       "</div>"
      ],
      "text/plain": [
       "              tgl            ot   lat     lon  depth  mag  \\\n",
       "856    2009/02/23  01:34:23.891  3.74  126.81     45  4.4   \n",
       "86200  2022/07/02  20:30:48.047 -7.35  126.14    434  4.3   \n",
       "45386  2018/09/23  03:09:39.862  0.47  126.30     46  5.2   \n",
       "70046  2020/12/28  07:31:11.847 -0.14  124.61     57  5.3   \n",
       "79574  2021/12/04  23:47:57.589  4.07  128.06    168  6.1   \n",
       "92504  2023/01/18  00:34:46.442 -0.02  123.27    144  6.1   \n",
       "70613  2021/01/21  12:23:07.988  4.95  127.46    116  7.0   \n",
       "80796  2021/12/29  18:25:53.213 -7.71  127.55    187  7.3   \n",
       "\n",
       "                               remark  strike1  dip1  rake1  strike2  dip2  \\\n",
       "856        Talaud Islands - Indonesia      NaN   NaN    NaN      NaN   NaN   \n",
       "86200                       Banda Sea      NaN   NaN    NaN      NaN   NaN   \n",
       "45386            Northern Molucca Sea    350.4  61.3   24.0   248.36  69.1   \n",
       "70046            Southern Molucca Sea      NaN   NaN    NaN      NaN   NaN   \n",
       "79574  North of Halmahera - Indonesia      NaN   NaN    NaN      NaN   NaN   \n",
       "92504  Minahassa Peninsula - Sulawesi     71.3  56.3   94.6   243.10  34.0   \n",
       "70613      Talaud Islands - Indonesia      NaN   NaN    NaN      NaN   NaN   \n",
       "80796                       Banda Sea      NaN   NaN    NaN      NaN   NaN   \n",
       "\n",
       "       rake2 magnitude_level  \n",
       "856      NaN         4.0-4.9  \n",
       "86200    NaN         4.0-4.9  \n",
       "45386  149.1         5.0-5.9  \n",
       "70046    NaN         5.0-5.9  \n",
       "79574    NaN         6.0-6.9  \n",
       "92504   83.2         6.0-6.9  \n",
       "70613    NaN         7.0-7.9  \n",
       "80796    NaN         7.0-7.9  "
      ]
     },
     "execution_count": 11,
     "metadata": {},
     "output_type": "execute_result"
    }
   ],
   "source": [
    "df = pd.DataFrame(data)\n",
    "\n",
    "# Define magnitude bins (e.g., 4.0-4.9, 5.0-5.9, 6.0-6.9, etc.)\n",
    "bins = [4, 5, 6, 7, 8]\n",
    "labels = ['4.0-4.9', '5.0-5.9', '6.0-6.9', '7.0-7.9']\n",
    "\n",
    "# Create a new column 'magnitude_level' to indicate the stratum\n",
    "df['magnitude_level'] = pd.cut(df['mag'], bins=bins, labels=labels, right=False)\n",
    "\n",
    "# Perform stratified sampling\n",
    "def stratified_sample(df, strata_col, n_samples_per_stratum):\n",
    "    # Create an empty DataFrame to store the sampled data\n",
    "    sampled_df = pd.DataFrame()\n",
    "    # Iterate over each stratum\n",
    "    for stratum in df[strata_col].unique():\n",
    "        stratum_df = df[df[strata_col] == stratum]\n",
    "        sample_size = min(len(stratum_df), n_samples_per_stratum)\n",
    "        sampled_stratum_df = stratum_df.sample(sample_size)\n",
    "        sampled_df = pd.concat([sampled_df, sampled_stratum_df])\n",
    "    return sampled_df\n",
    "\n",
    "# Number of samples per stratum\n",
    "n_samples = 2\n",
    "\n",
    "# Get the stratified sample\n",
    "stratified_df = stratified_sample(df, 'magnitude_level', n_samples)\n",
    "\n",
    "# Print the sampled data\n",
    "stratified_df"
   ]
  },
  {
   "cell_type": "code",
   "execution_count": 12,
   "id": "5ee3f4ed",
   "metadata": {
    "id": "5ee3f4ed",
    "outputId": "cb1a4706-e5be-4a3c-f2b9-0775dd87636b"
   },
   "outputs": [
    {
     "data": {
      "text/html": [
       "<div>\n",
       "<style scoped>\n",
       "    .dataframe tbody tr th:only-of-type {\n",
       "        vertical-align: middle;\n",
       "    }\n",
       "\n",
       "    .dataframe tbody tr th {\n",
       "        vertical-align: top;\n",
       "    }\n",
       "\n",
       "    .dataframe thead th {\n",
       "        text-align: right;\n",
       "    }\n",
       "</style>\n",
       "<table border=\"1\" class=\"dataframe\">\n",
       "  <thead>\n",
       "    <tr style=\"text-align: right;\">\n",
       "      <th></th>\n",
       "      <th>lat</th>\n",
       "      <th>lon</th>\n",
       "      <th>depth</th>\n",
       "      <th>mag</th>\n",
       "      <th>strike1</th>\n",
       "      <th>dip1</th>\n",
       "      <th>rake1</th>\n",
       "      <th>strike2</th>\n",
       "      <th>dip2</th>\n",
       "      <th>rake2</th>\n",
       "    </tr>\n",
       "  </thead>\n",
       "  <tbody>\n",
       "    <tr>\n",
       "      <th>count</th>\n",
       "      <td>8.000000</td>\n",
       "      <td>8.000000</td>\n",
       "      <td>8.000000</td>\n",
       "      <td>8.000000</td>\n",
       "      <td>2.000000</td>\n",
       "      <td>2.000000</td>\n",
       "      <td>2.000000</td>\n",
       "      <td>2.000000</td>\n",
       "      <td>2.000000</td>\n",
       "      <td>2.000000</td>\n",
       "    </tr>\n",
       "    <tr>\n",
       "      <th>mean</th>\n",
       "      <td>-0.248750</td>\n",
       "      <td>126.275000</td>\n",
       "      <td>149.625000</td>\n",
       "      <td>5.712500</td>\n",
       "      <td>210.850000</td>\n",
       "      <td>58.800000</td>\n",
       "      <td>59.300000</td>\n",
       "      <td>245.730000</td>\n",
       "      <td>51.550000</td>\n",
       "      <td>116.150000</td>\n",
       "    </tr>\n",
       "    <tr>\n",
       "      <th>std</th>\n",
       "      <td>4.902878</td>\n",
       "      <td>1.617909</td>\n",
       "      <td>127.632214</td>\n",
       "      <td>1.110261</td>\n",
       "      <td>197.353503</td>\n",
       "      <td>3.535534</td>\n",
       "      <td>49.921739</td>\n",
       "      <td>3.719382</td>\n",
       "      <td>24.819448</td>\n",
       "      <td>46.598337</td>\n",
       "    </tr>\n",
       "    <tr>\n",
       "      <th>min</th>\n",
       "      <td>-7.710000</td>\n",
       "      <td>123.270000</td>\n",
       "      <td>45.000000</td>\n",
       "      <td>4.300000</td>\n",
       "      <td>71.300000</td>\n",
       "      <td>56.300000</td>\n",
       "      <td>24.000000</td>\n",
       "      <td>243.100000</td>\n",
       "      <td>34.000000</td>\n",
       "      <td>83.200000</td>\n",
       "    </tr>\n",
       "    <tr>\n",
       "      <th>25%</th>\n",
       "      <td>-1.942500</td>\n",
       "      <td>125.757500</td>\n",
       "      <td>54.250000</td>\n",
       "      <td>5.000000</td>\n",
       "      <td>141.075000</td>\n",
       "      <td>57.550000</td>\n",
       "      <td>41.650000</td>\n",
       "      <td>244.415000</td>\n",
       "      <td>42.775000</td>\n",
       "      <td>99.675000</td>\n",
       "    </tr>\n",
       "    <tr>\n",
       "      <th>50%</th>\n",
       "      <td>0.225000</td>\n",
       "      <td>126.555000</td>\n",
       "      <td>130.000000</td>\n",
       "      <td>5.700000</td>\n",
       "      <td>210.850000</td>\n",
       "      <td>58.800000</td>\n",
       "      <td>59.300000</td>\n",
       "      <td>245.730000</td>\n",
       "      <td>51.550000</td>\n",
       "      <td>116.150000</td>\n",
       "    </tr>\n",
       "    <tr>\n",
       "      <th>75%</th>\n",
       "      <td>3.822500</td>\n",
       "      <td>127.482500</td>\n",
       "      <td>172.750000</td>\n",
       "      <td>6.325000</td>\n",
       "      <td>280.625000</td>\n",
       "      <td>60.050000</td>\n",
       "      <td>76.950000</td>\n",
       "      <td>247.045000</td>\n",
       "      <td>60.325000</td>\n",
       "      <td>132.625000</td>\n",
       "    </tr>\n",
       "    <tr>\n",
       "      <th>max</th>\n",
       "      <td>4.950000</td>\n",
       "      <td>128.060000</td>\n",
       "      <td>434.000000</td>\n",
       "      <td>7.300000</td>\n",
       "      <td>350.400000</td>\n",
       "      <td>61.300000</td>\n",
       "      <td>94.600000</td>\n",
       "      <td>248.360000</td>\n",
       "      <td>69.100000</td>\n",
       "      <td>149.100000</td>\n",
       "    </tr>\n",
       "  </tbody>\n",
       "</table>\n",
       "</div>"
      ],
      "text/plain": [
       "            lat         lon       depth       mag     strike1       dip1  \\\n",
       "count  8.000000    8.000000    8.000000  8.000000    2.000000   2.000000   \n",
       "mean  -0.248750  126.275000  149.625000  5.712500  210.850000  58.800000   \n",
       "std    4.902878    1.617909  127.632214  1.110261  197.353503   3.535534   \n",
       "min   -7.710000  123.270000   45.000000  4.300000   71.300000  56.300000   \n",
       "25%   -1.942500  125.757500   54.250000  5.000000  141.075000  57.550000   \n",
       "50%    0.225000  126.555000  130.000000  5.700000  210.850000  58.800000   \n",
       "75%    3.822500  127.482500  172.750000  6.325000  280.625000  60.050000   \n",
       "max    4.950000  128.060000  434.000000  7.300000  350.400000  61.300000   \n",
       "\n",
       "           rake1     strike2       dip2       rake2  \n",
       "count   2.000000    2.000000   2.000000    2.000000  \n",
       "mean   59.300000  245.730000  51.550000  116.150000  \n",
       "std    49.921739    3.719382  24.819448   46.598337  \n",
       "min    24.000000  243.100000  34.000000   83.200000  \n",
       "25%    41.650000  244.415000  42.775000   99.675000  \n",
       "50%    59.300000  245.730000  51.550000  116.150000  \n",
       "75%    76.950000  247.045000  60.325000  132.625000  \n",
       "max    94.600000  248.360000  69.100000  149.100000  "
      ]
     },
     "execution_count": 12,
     "metadata": {},
     "output_type": "execute_result"
    }
   ],
   "source": [
    "stratified_df.describe()"
   ]
  },
  {
   "cell_type": "markdown",
   "id": "56da86d2",
   "metadata": {
    "id": "56da86d2"
   },
   "source": [
    "Kode di atas dapat menghasilkan 8 sampel data menggunakan metode sampel strata (stratified sampling). Setiap data akan dikategorikan pada kategori tertentu. Pada data tersebut, penulis mengategorikan `magnitude` gempa berdasarkan levelnya. Setiap level akan diambil sebanyak 2 sampel acak, sehingga akan didapatkan 8 sampel acak dari semua level."
   ]
  },
  {
   "cell_type": "markdown",
   "id": "f0fbf265",
   "metadata": {
    "id": "f0fbf265"
   },
   "source": [
    "### Sampel Klaster"
   ]
  },
  {
   "cell_type": "code",
   "execution_count": 13,
   "id": "006fe514",
   "metadata": {
    "id": "006fe514",
    "outputId": "f456b8f2-f365-4f25-87c4-a2e54aae5e0c"
   },
   "outputs": [
    {
     "data": {
      "text/html": [
       "<div>\n",
       "<style scoped>\n",
       "    .dataframe tbody tr th:only-of-type {\n",
       "        vertical-align: middle;\n",
       "    }\n",
       "\n",
       "    .dataframe tbody tr th {\n",
       "        vertical-align: top;\n",
       "    }\n",
       "\n",
       "    .dataframe thead th {\n",
       "        text-align: right;\n",
       "    }\n",
       "</style>\n",
       "<table border=\"1\" class=\"dataframe\">\n",
       "  <thead>\n",
       "    <tr style=\"text-align: right;\">\n",
       "      <th></th>\n",
       "      <th>tgl</th>\n",
       "      <th>ot</th>\n",
       "      <th>lat</th>\n",
       "      <th>lon</th>\n",
       "      <th>depth</th>\n",
       "      <th>mag</th>\n",
       "      <th>remark</th>\n",
       "      <th>strike1</th>\n",
       "      <th>dip1</th>\n",
       "      <th>rake1</th>\n",
       "      <th>strike2</th>\n",
       "      <th>dip2</th>\n",
       "      <th>rake2</th>\n",
       "      <th>cluster</th>\n",
       "    </tr>\n",
       "  </thead>\n",
       "  <tbody>\n",
       "    <tr>\n",
       "      <th>21515</th>\n",
       "      <td>2015/07/19</td>\n",
       "      <td>12:47:35.974</td>\n",
       "      <td>0.01</td>\n",
       "      <td>124.41</td>\n",
       "      <td>68</td>\n",
       "      <td>3.9</td>\n",
       "      <td>Minahassa Peninsula - Sulawesi</td>\n",
       "      <td>NaN</td>\n",
       "      <td>NaN</td>\n",
       "      <td>NaN</td>\n",
       "      <td>NaN</td>\n",
       "      <td>NaN</td>\n",
       "      <td>NaN</td>\n",
       "      <td>4303</td>\n",
       "    </tr>\n",
       "    <tr>\n",
       "      <th>21516</th>\n",
       "      <td>2015/07/19</td>\n",
       "      <td>12:36:02.081</td>\n",
       "      <td>-1.09</td>\n",
       "      <td>121.40</td>\n",
       "      <td>10</td>\n",
       "      <td>3.0</td>\n",
       "      <td>Sulawesi - Indonesia</td>\n",
       "      <td>NaN</td>\n",
       "      <td>NaN</td>\n",
       "      <td>NaN</td>\n",
       "      <td>NaN</td>\n",
       "      <td>NaN</td>\n",
       "      <td>NaN</td>\n",
       "      <td>4303</td>\n",
       "    </tr>\n",
       "    <tr>\n",
       "      <th>21517</th>\n",
       "      <td>2015/07/19</td>\n",
       "      <td>07:50:12.437</td>\n",
       "      <td>1.19</td>\n",
       "      <td>122.70</td>\n",
       "      <td>11</td>\n",
       "      <td>5.0</td>\n",
       "      <td>Minahassa Peninsula - Sulawesi</td>\n",
       "      <td>NaN</td>\n",
       "      <td>NaN</td>\n",
       "      <td>NaN</td>\n",
       "      <td>NaN</td>\n",
       "      <td>NaN</td>\n",
       "      <td>NaN</td>\n",
       "      <td>4303</td>\n",
       "    </tr>\n",
       "    <tr>\n",
       "      <th>21518</th>\n",
       "      <td>2015/07/19</td>\n",
       "      <td>02:55:22.354</td>\n",
       "      <td>1.86</td>\n",
       "      <td>127.44</td>\n",
       "      <td>130</td>\n",
       "      <td>4.7</td>\n",
       "      <td>Halmahera - Indonesia</td>\n",
       "      <td>NaN</td>\n",
       "      <td>NaN</td>\n",
       "      <td>NaN</td>\n",
       "      <td>NaN</td>\n",
       "      <td>NaN</td>\n",
       "      <td>NaN</td>\n",
       "      <td>4303</td>\n",
       "    </tr>\n",
       "    <tr>\n",
       "      <th>21519</th>\n",
       "      <td>2015/07/19</td>\n",
       "      <td>01:23:04.076</td>\n",
       "      <td>-2.48</td>\n",
       "      <td>126.77</td>\n",
       "      <td>10</td>\n",
       "      <td>3.6</td>\n",
       "      <td>Ceram Sea</td>\n",
       "      <td>NaN</td>\n",
       "      <td>NaN</td>\n",
       "      <td>NaN</td>\n",
       "      <td>NaN</td>\n",
       "      <td>NaN</td>\n",
       "      <td>NaN</td>\n",
       "      <td>4303</td>\n",
       "    </tr>\n",
       "    <tr>\n",
       "      <th>84750</th>\n",
       "      <td>2022/05/03</td>\n",
       "      <td>09:10:49.097</td>\n",
       "      <td>2.45</td>\n",
       "      <td>125.46</td>\n",
       "      <td>117</td>\n",
       "      <td>4.1</td>\n",
       "      <td>Talaud Islands - Indonesia</td>\n",
       "      <td>NaN</td>\n",
       "      <td>NaN</td>\n",
       "      <td>NaN</td>\n",
       "      <td>NaN</td>\n",
       "      <td>NaN</td>\n",
       "      <td>NaN</td>\n",
       "      <td>16950</td>\n",
       "    </tr>\n",
       "    <tr>\n",
       "      <th>84751</th>\n",
       "      <td>2022/05/03</td>\n",
       "      <td>08:48:27.390</td>\n",
       "      <td>0.54</td>\n",
       "      <td>126.59</td>\n",
       "      <td>19</td>\n",
       "      <td>4.6</td>\n",
       "      <td>Northern Molucca Sea</td>\n",
       "      <td>NaN</td>\n",
       "      <td>NaN</td>\n",
       "      <td>NaN</td>\n",
       "      <td>NaN</td>\n",
       "      <td>NaN</td>\n",
       "      <td>NaN</td>\n",
       "      <td>16950</td>\n",
       "    </tr>\n",
       "    <tr>\n",
       "      <th>84752</th>\n",
       "      <td>2022/05/03</td>\n",
       "      <td>07:46:49.122</td>\n",
       "      <td>-0.29</td>\n",
       "      <td>122.81</td>\n",
       "      <td>48</td>\n",
       "      <td>3.7</td>\n",
       "      <td>Minahassa Peninsula - Sulawesi</td>\n",
       "      <td>NaN</td>\n",
       "      <td>NaN</td>\n",
       "      <td>NaN</td>\n",
       "      <td>NaN</td>\n",
       "      <td>NaN</td>\n",
       "      <td>NaN</td>\n",
       "      <td>16950</td>\n",
       "    </tr>\n",
       "    <tr>\n",
       "      <th>84753</th>\n",
       "      <td>2022/05/03</td>\n",
       "      <td>06:54:18.629</td>\n",
       "      <td>-8.33</td>\n",
       "      <td>119.60</td>\n",
       "      <td>166</td>\n",
       "      <td>2.9</td>\n",
       "      <td>Flores Region - Indonesia</td>\n",
       "      <td>NaN</td>\n",
       "      <td>NaN</td>\n",
       "      <td>NaN</td>\n",
       "      <td>NaN</td>\n",
       "      <td>NaN</td>\n",
       "      <td>NaN</td>\n",
       "      <td>16950</td>\n",
       "    </tr>\n",
       "    <tr>\n",
       "      <th>84754</th>\n",
       "      <td>2022/05/03</td>\n",
       "      <td>04:23:54.061</td>\n",
       "      <td>-1.30</td>\n",
       "      <td>120.47</td>\n",
       "      <td>10</td>\n",
       "      <td>3.3</td>\n",
       "      <td>Sulawesi - Indonesia</td>\n",
       "      <td>NaN</td>\n",
       "      <td>NaN</td>\n",
       "      <td>NaN</td>\n",
       "      <td>NaN</td>\n",
       "      <td>NaN</td>\n",
       "      <td>NaN</td>\n",
       "      <td>16950</td>\n",
       "    </tr>\n",
       "  </tbody>\n",
       "</table>\n",
       "</div>"
      ],
      "text/plain": [
       "              tgl            ot   lat     lon  depth  mag  \\\n",
       "21515  2015/07/19  12:47:35.974  0.01  124.41     68  3.9   \n",
       "21516  2015/07/19  12:36:02.081 -1.09  121.40     10  3.0   \n",
       "21517  2015/07/19  07:50:12.437  1.19  122.70     11  5.0   \n",
       "21518  2015/07/19  02:55:22.354  1.86  127.44    130  4.7   \n",
       "21519  2015/07/19  01:23:04.076 -2.48  126.77     10  3.6   \n",
       "84750  2022/05/03  09:10:49.097  2.45  125.46    117  4.1   \n",
       "84751  2022/05/03  08:48:27.390  0.54  126.59     19  4.6   \n",
       "84752  2022/05/03  07:46:49.122 -0.29  122.81     48  3.7   \n",
       "84753  2022/05/03  06:54:18.629 -8.33  119.60    166  2.9   \n",
       "84754  2022/05/03  04:23:54.061 -1.30  120.47     10  3.3   \n",
       "\n",
       "                               remark  strike1  dip1  rake1  strike2  dip2  \\\n",
       "21515  Minahassa Peninsula - Sulawesi      NaN   NaN    NaN      NaN   NaN   \n",
       "21516            Sulawesi - Indonesia      NaN   NaN    NaN      NaN   NaN   \n",
       "21517  Minahassa Peninsula - Sulawesi      NaN   NaN    NaN      NaN   NaN   \n",
       "21518           Halmahera - Indonesia      NaN   NaN    NaN      NaN   NaN   \n",
       "21519                       Ceram Sea      NaN   NaN    NaN      NaN   NaN   \n",
       "84750      Talaud Islands - Indonesia      NaN   NaN    NaN      NaN   NaN   \n",
       "84751            Northern Molucca Sea      NaN   NaN    NaN      NaN   NaN   \n",
       "84752  Minahassa Peninsula - Sulawesi      NaN   NaN    NaN      NaN   NaN   \n",
       "84753       Flores Region - Indonesia      NaN   NaN    NaN      NaN   NaN   \n",
       "84754            Sulawesi - Indonesia      NaN   NaN    NaN      NaN   NaN   \n",
       "\n",
       "       rake2  cluster  \n",
       "21515    NaN     4303  \n",
       "21516    NaN     4303  \n",
       "21517    NaN     4303  \n",
       "21518    NaN     4303  \n",
       "21519    NaN     4303  \n",
       "84750    NaN    16950  \n",
       "84751    NaN    16950  \n",
       "84752    NaN    16950  \n",
       "84753    NaN    16950  \n",
       "84754    NaN    16950  "
      ]
     },
     "execution_count": 13,
     "metadata": {},
     "output_type": "execute_result"
    }
   ],
   "source": [
    "df = pd.DataFrame(data)\n",
    "\n",
    "# Membuat kolom klaster (misalnya, setiap 10 baris menjadi satu klaster)\n",
    "df['cluster'] = df.index // 5\n",
    "\n",
    "# Menentukan jumlah klaster yang akan dipilih\n",
    "n_clusters_to_sample = 2\n",
    "\n",
    "# Memilih klaster secara acak\n",
    "sampled_clusters = df['cluster'].unique()\n",
    "sampled_clusters = np.random.choice(sampled_clusters, n_clusters_to_sample, replace=False)\n",
    "\n",
    "# Mengambil semua elemen dari klaster yang dipilih\n",
    "cluster_df = df[df['cluster'].isin(sampled_clusters)]\n",
    "cluster_df"
   ]
  },
  {
   "cell_type": "code",
   "execution_count": 14,
   "id": "67df4e81",
   "metadata": {
    "id": "67df4e81",
    "outputId": "145f19a5-d6f8-4688-a147-82705045280f"
   },
   "outputs": [
    {
     "data": {
      "text/html": [
       "<div>\n",
       "<style scoped>\n",
       "    .dataframe tbody tr th:only-of-type {\n",
       "        vertical-align: middle;\n",
       "    }\n",
       "\n",
       "    .dataframe tbody tr th {\n",
       "        vertical-align: top;\n",
       "    }\n",
       "\n",
       "    .dataframe thead th {\n",
       "        text-align: right;\n",
       "    }\n",
       "</style>\n",
       "<table border=\"1\" class=\"dataframe\">\n",
       "  <thead>\n",
       "    <tr style=\"text-align: right;\">\n",
       "      <th></th>\n",
       "      <th>lat</th>\n",
       "      <th>lon</th>\n",
       "      <th>depth</th>\n",
       "      <th>mag</th>\n",
       "      <th>strike1</th>\n",
       "      <th>dip1</th>\n",
       "      <th>rake1</th>\n",
       "      <th>strike2</th>\n",
       "      <th>dip2</th>\n",
       "      <th>rake2</th>\n",
       "      <th>cluster</th>\n",
       "    </tr>\n",
       "  </thead>\n",
       "  <tbody>\n",
       "    <tr>\n",
       "      <th>count</th>\n",
       "      <td>10.000000</td>\n",
       "      <td>10.000000</td>\n",
       "      <td>10.000000</td>\n",
       "      <td>10.000000</td>\n",
       "      <td>0.0</td>\n",
       "      <td>0.0</td>\n",
       "      <td>0.0</td>\n",
       "      <td>0.0</td>\n",
       "      <td>0.0</td>\n",
       "      <td>0.0</td>\n",
       "      <td>10.000000</td>\n",
       "    </tr>\n",
       "    <tr>\n",
       "      <th>mean</th>\n",
       "      <td>-0.744000</td>\n",
       "      <td>123.765000</td>\n",
       "      <td>58.900000</td>\n",
       "      <td>3.880000</td>\n",
       "      <td>NaN</td>\n",
       "      <td>NaN</td>\n",
       "      <td>NaN</td>\n",
       "      <td>NaN</td>\n",
       "      <td>NaN</td>\n",
       "      <td>NaN</td>\n",
       "      <td>10626.500000</td>\n",
       "    </tr>\n",
       "    <tr>\n",
       "      <th>std</th>\n",
       "      <td>3.057523</td>\n",
       "      <td>2.781867</td>\n",
       "      <td>58.843389</td>\n",
       "      <td>0.720802</td>\n",
       "      <td>NaN</td>\n",
       "      <td>NaN</td>\n",
       "      <td>NaN</td>\n",
       "      <td>NaN</td>\n",
       "      <td>NaN</td>\n",
       "      <td>NaN</td>\n",
       "      <td>6665.554261</td>\n",
       "    </tr>\n",
       "    <tr>\n",
       "      <th>min</th>\n",
       "      <td>-8.330000</td>\n",
       "      <td>119.600000</td>\n",
       "      <td>10.000000</td>\n",
       "      <td>2.900000</td>\n",
       "      <td>NaN</td>\n",
       "      <td>NaN</td>\n",
       "      <td>NaN</td>\n",
       "      <td>NaN</td>\n",
       "      <td>NaN</td>\n",
       "      <td>NaN</td>\n",
       "      <td>4303.000000</td>\n",
       "    </tr>\n",
       "    <tr>\n",
       "      <th>25%</th>\n",
       "      <td>-1.247500</td>\n",
       "      <td>121.725000</td>\n",
       "      <td>10.250000</td>\n",
       "      <td>3.375000</td>\n",
       "      <td>NaN</td>\n",
       "      <td>NaN</td>\n",
       "      <td>NaN</td>\n",
       "      <td>NaN</td>\n",
       "      <td>NaN</td>\n",
       "      <td>NaN</td>\n",
       "      <td>4303.000000</td>\n",
       "    </tr>\n",
       "    <tr>\n",
       "      <th>50%</th>\n",
       "      <td>-0.140000</td>\n",
       "      <td>123.610000</td>\n",
       "      <td>33.500000</td>\n",
       "      <td>3.800000</td>\n",
       "      <td>NaN</td>\n",
       "      <td>NaN</td>\n",
       "      <td>NaN</td>\n",
       "      <td>NaN</td>\n",
       "      <td>NaN</td>\n",
       "      <td>NaN</td>\n",
       "      <td>10626.500000</td>\n",
       "    </tr>\n",
       "    <tr>\n",
       "      <th>75%</th>\n",
       "      <td>1.027500</td>\n",
       "      <td>126.307500</td>\n",
       "      <td>104.750000</td>\n",
       "      <td>4.475000</td>\n",
       "      <td>NaN</td>\n",
       "      <td>NaN</td>\n",
       "      <td>NaN</td>\n",
       "      <td>NaN</td>\n",
       "      <td>NaN</td>\n",
       "      <td>NaN</td>\n",
       "      <td>16950.000000</td>\n",
       "    </tr>\n",
       "    <tr>\n",
       "      <th>max</th>\n",
       "      <td>2.450000</td>\n",
       "      <td>127.440000</td>\n",
       "      <td>166.000000</td>\n",
       "      <td>5.000000</td>\n",
       "      <td>NaN</td>\n",
       "      <td>NaN</td>\n",
       "      <td>NaN</td>\n",
       "      <td>NaN</td>\n",
       "      <td>NaN</td>\n",
       "      <td>NaN</td>\n",
       "      <td>16950.000000</td>\n",
       "    </tr>\n",
       "  </tbody>\n",
       "</table>\n",
       "</div>"
      ],
      "text/plain": [
       "             lat         lon       depth        mag  strike1  dip1  rake1  \\\n",
       "count  10.000000   10.000000   10.000000  10.000000      0.0   0.0    0.0   \n",
       "mean   -0.744000  123.765000   58.900000   3.880000      NaN   NaN    NaN   \n",
       "std     3.057523    2.781867   58.843389   0.720802      NaN   NaN    NaN   \n",
       "min    -8.330000  119.600000   10.000000   2.900000      NaN   NaN    NaN   \n",
       "25%    -1.247500  121.725000   10.250000   3.375000      NaN   NaN    NaN   \n",
       "50%    -0.140000  123.610000   33.500000   3.800000      NaN   NaN    NaN   \n",
       "75%     1.027500  126.307500  104.750000   4.475000      NaN   NaN    NaN   \n",
       "max     2.450000  127.440000  166.000000   5.000000      NaN   NaN    NaN   \n",
       "\n",
       "       strike2  dip2  rake2       cluster  \n",
       "count      0.0   0.0    0.0     10.000000  \n",
       "mean       NaN   NaN    NaN  10626.500000  \n",
       "std        NaN   NaN    NaN   6665.554261  \n",
       "min        NaN   NaN    NaN   4303.000000  \n",
       "25%        NaN   NaN    NaN   4303.000000  \n",
       "50%        NaN   NaN    NaN  10626.500000  \n",
       "75%        NaN   NaN    NaN  16950.000000  \n",
       "max        NaN   NaN    NaN  16950.000000  "
      ]
     },
     "execution_count": 14,
     "metadata": {},
     "output_type": "execute_result"
    }
   ],
   "source": [
    "cluster_df.describe()"
   ]
  },
  {
   "cell_type": "markdown",
   "id": "4d05e30c",
   "metadata": {
    "id": "4d05e30c"
   },
   "source": [
    "Kode di atas mengambil sebanyak 10 sampel dari 2 kluster yang telah di acak sebelumnya. Mekanismenya adalah, dataframe akan dibagi menjadi beberapa kluster, dalam kode tersebut, setiap kluster akan memiliki 5 data. Setelah didapatkan kluster tersebut, akan dipilih secara acak 2 kluster yang akan dijadikan sampel. Pada hasil di atas, cluster sampel adalah cluster 2854 dan cluster 11100."
   ]
  },
  {
   "cell_type": "markdown",
   "id": "df2aa004",
   "metadata": {
    "id": "df2aa004"
   },
   "source": [
    "### Sampel Sistematis"
   ]
  },
  {
   "cell_type": "code",
   "execution_count": 15,
   "id": "4c31cc62",
   "metadata": {
    "id": "4c31cc62",
    "outputId": "142ac87a-098c-4b79-ae57-c3dd106666c8"
   },
   "outputs": [
    {
     "data": {
      "text/html": [
       "<div>\n",
       "<style scoped>\n",
       "    .dataframe tbody tr th:only-of-type {\n",
       "        vertical-align: middle;\n",
       "    }\n",
       "\n",
       "    .dataframe tbody tr th {\n",
       "        vertical-align: top;\n",
       "    }\n",
       "\n",
       "    .dataframe thead th {\n",
       "        text-align: right;\n",
       "    }\n",
       "</style>\n",
       "<table border=\"1\" class=\"dataframe\">\n",
       "  <thead>\n",
       "    <tr style=\"text-align: right;\">\n",
       "      <th></th>\n",
       "      <th>tgl</th>\n",
       "      <th>ot</th>\n",
       "      <th>lat</th>\n",
       "      <th>lon</th>\n",
       "      <th>depth</th>\n",
       "      <th>mag</th>\n",
       "      <th>remark</th>\n",
       "      <th>strike1</th>\n",
       "      <th>dip1</th>\n",
       "      <th>rake1</th>\n",
       "      <th>strike2</th>\n",
       "      <th>dip2</th>\n",
       "      <th>rake2</th>\n",
       "      <th>cluster</th>\n",
       "    </tr>\n",
       "  </thead>\n",
       "  <tbody>\n",
       "    <tr>\n",
       "      <th>9933</th>\n",
       "      <td>2011/10/22</td>\n",
       "      <td>19:45:39.301</td>\n",
       "      <td>2.42</td>\n",
       "      <td>128.73</td>\n",
       "      <td>88</td>\n",
       "      <td>4.7</td>\n",
       "      <td>Halmahera - Indonesia</td>\n",
       "      <td>NaN</td>\n",
       "      <td>NaN</td>\n",
       "      <td>NaN</td>\n",
       "      <td>NaN</td>\n",
       "      <td>NaN</td>\n",
       "      <td>NaN</td>\n",
       "      <td>1986</td>\n",
       "    </tr>\n",
       "    <tr>\n",
       "      <th>19933</th>\n",
       "      <td>2015/03/19</td>\n",
       "      <td>07:34:39.417</td>\n",
       "      <td>2.60</td>\n",
       "      <td>95.84</td>\n",
       "      <td>10</td>\n",
       "      <td>3.7</td>\n",
       "      <td>Off West Coast of Northern Sumatra</td>\n",
       "      <td>NaN</td>\n",
       "      <td>NaN</td>\n",
       "      <td>NaN</td>\n",
       "      <td>NaN</td>\n",
       "      <td>NaN</td>\n",
       "      <td>NaN</td>\n",
       "      <td>3986</td>\n",
       "    </tr>\n",
       "    <tr>\n",
       "      <th>29933</th>\n",
       "      <td>2017/02/02</td>\n",
       "      <td>22:48:46.689</td>\n",
       "      <td>0.74</td>\n",
       "      <td>122.18</td>\n",
       "      <td>75</td>\n",
       "      <td>2.1</td>\n",
       "      <td>Minahassa Peninsula - Sulawesi</td>\n",
       "      <td>NaN</td>\n",
       "      <td>NaN</td>\n",
       "      <td>NaN</td>\n",
       "      <td>NaN</td>\n",
       "      <td>NaN</td>\n",
       "      <td>NaN</td>\n",
       "      <td>5986</td>\n",
       "    </tr>\n",
       "    <tr>\n",
       "      <th>39933</th>\n",
       "      <td>2018/04/25</td>\n",
       "      <td>12:33:11.658</td>\n",
       "      <td>1.48</td>\n",
       "      <td>125.98</td>\n",
       "      <td>24</td>\n",
       "      <td>3.7</td>\n",
       "      <td>Northern Molucca Sea</td>\n",
       "      <td>NaN</td>\n",
       "      <td>NaN</td>\n",
       "      <td>NaN</td>\n",
       "      <td>NaN</td>\n",
       "      <td>NaN</td>\n",
       "      <td>NaN</td>\n",
       "      <td>7986</td>\n",
       "    </tr>\n",
       "    <tr>\n",
       "      <th>49933</th>\n",
       "      <td>2019/01/11</td>\n",
       "      <td>05:27:38.617</td>\n",
       "      <td>-8.04</td>\n",
       "      <td>106.71</td>\n",
       "      <td>10</td>\n",
       "      <td>3.3</td>\n",
       "      <td>South of Java - Indonesia</td>\n",
       "      <td>NaN</td>\n",
       "      <td>NaN</td>\n",
       "      <td>NaN</td>\n",
       "      <td>NaN</td>\n",
       "      <td>NaN</td>\n",
       "      <td>NaN</td>\n",
       "      <td>9986</td>\n",
       "    </tr>\n",
       "    <tr>\n",
       "      <th>59933</th>\n",
       "      <td>2019/11/15</td>\n",
       "      <td>14:35:37.652</td>\n",
       "      <td>1.60</td>\n",
       "      <td>126.50</td>\n",
       "      <td>12</td>\n",
       "      <td>3.0</td>\n",
       "      <td>Northern Molucca Sea</td>\n",
       "      <td>NaN</td>\n",
       "      <td>NaN</td>\n",
       "      <td>NaN</td>\n",
       "      <td>NaN</td>\n",
       "      <td>NaN</td>\n",
       "      <td>NaN</td>\n",
       "      <td>11986</td>\n",
       "    </tr>\n",
       "    <tr>\n",
       "      <th>69933</th>\n",
       "      <td>2020/12/23</td>\n",
       "      <td>19:16:53.534</td>\n",
       "      <td>-9.60</td>\n",
       "      <td>121.94</td>\n",
       "      <td>22</td>\n",
       "      <td>3.3</td>\n",
       "      <td>Savu Sea</td>\n",
       "      <td>NaN</td>\n",
       "      <td>NaN</td>\n",
       "      <td>NaN</td>\n",
       "      <td>NaN</td>\n",
       "      <td>NaN</td>\n",
       "      <td>NaN</td>\n",
       "      <td>13986</td>\n",
       "    </tr>\n",
       "    <tr>\n",
       "      <th>79933</th>\n",
       "      <td>2021/12/14</td>\n",
       "      <td>13:04:32.413</td>\n",
       "      <td>-7.31</td>\n",
       "      <td>121.26</td>\n",
       "      <td>10</td>\n",
       "      <td>3.0</td>\n",
       "      <td>Flores Sea</td>\n",
       "      <td>NaN</td>\n",
       "      <td>NaN</td>\n",
       "      <td>NaN</td>\n",
       "      <td>NaN</td>\n",
       "      <td>NaN</td>\n",
       "      <td>NaN</td>\n",
       "      <td>15986</td>\n",
       "    </tr>\n",
       "    <tr>\n",
       "      <th>89933</th>\n",
       "      <td>2022/11/19</td>\n",
       "      <td>00:04:26.221</td>\n",
       "      <td>-8.01</td>\n",
       "      <td>117.78</td>\n",
       "      <td>20</td>\n",
       "      <td>3.0</td>\n",
       "      <td>Sumbawa Region - Indonesia</td>\n",
       "      <td>NaN</td>\n",
       "      <td>NaN</td>\n",
       "      <td>NaN</td>\n",
       "      <td>NaN</td>\n",
       "      <td>NaN</td>\n",
       "      <td>NaN</td>\n",
       "      <td>17986</td>\n",
       "    </tr>\n",
       "  </tbody>\n",
       "</table>\n",
       "</div>"
      ],
      "text/plain": [
       "              tgl            ot   lat     lon  depth  mag  \\\n",
       "9933   2011/10/22  19:45:39.301  2.42  128.73     88  4.7   \n",
       "19933  2015/03/19  07:34:39.417  2.60   95.84     10  3.7   \n",
       "29933  2017/02/02  22:48:46.689  0.74  122.18     75  2.1   \n",
       "39933  2018/04/25  12:33:11.658  1.48  125.98     24  3.7   \n",
       "49933  2019/01/11  05:27:38.617 -8.04  106.71     10  3.3   \n",
       "59933  2019/11/15  14:35:37.652  1.60  126.50     12  3.0   \n",
       "69933  2020/12/23  19:16:53.534 -9.60  121.94     22  3.3   \n",
       "79933  2021/12/14  13:04:32.413 -7.31  121.26     10  3.0   \n",
       "89933  2022/11/19  00:04:26.221 -8.01  117.78     20  3.0   \n",
       "\n",
       "                                   remark  strike1  dip1  rake1  strike2  \\\n",
       "9933                Halmahera - Indonesia      NaN   NaN    NaN      NaN   \n",
       "19933  Off West Coast of Northern Sumatra      NaN   NaN    NaN      NaN   \n",
       "29933      Minahassa Peninsula - Sulawesi      NaN   NaN    NaN      NaN   \n",
       "39933                Northern Molucca Sea      NaN   NaN    NaN      NaN   \n",
       "49933           South of Java - Indonesia      NaN   NaN    NaN      NaN   \n",
       "59933                Northern Molucca Sea      NaN   NaN    NaN      NaN   \n",
       "69933                            Savu Sea      NaN   NaN    NaN      NaN   \n",
       "79933                          Flores Sea      NaN   NaN    NaN      NaN   \n",
       "89933          Sumbawa Region - Indonesia      NaN   NaN    NaN      NaN   \n",
       "\n",
       "       dip2  rake2  cluster  \n",
       "9933    NaN    NaN     1986  \n",
       "19933   NaN    NaN     3986  \n",
       "29933   NaN    NaN     5986  \n",
       "39933   NaN    NaN     7986  \n",
       "49933   NaN    NaN     9986  \n",
       "59933   NaN    NaN    11986  \n",
       "69933   NaN    NaN    13986  \n",
       "79933   NaN    NaN    15986  \n",
       "89933   NaN    NaN    17986  "
      ]
     },
     "execution_count": 15,
     "metadata": {},
     "output_type": "execute_result"
    }
   ],
   "source": [
    "# Menentukan ukuran interval\n",
    "interval = 10000\n",
    "\n",
    "# Menentukan titik awal secara acak\n",
    "random_start = np.random.randint(0, interval)\n",
    "\n",
    "# Mengambil sampel berdasarkan interval\n",
    "sample_sistematis = df.iloc[random_start::interval]\n",
    "\n",
    "sample_sistematis"
   ]
  },
  {
   "cell_type": "code",
   "execution_count": 16,
   "id": "5f9b1034",
   "metadata": {
    "id": "5f9b1034",
    "outputId": "a00373ff-3ad9-405f-c917-f0ceeb09a800"
   },
   "outputs": [
    {
     "data": {
      "text/html": [
       "<div>\n",
       "<style scoped>\n",
       "    .dataframe tbody tr th:only-of-type {\n",
       "        vertical-align: middle;\n",
       "    }\n",
       "\n",
       "    .dataframe tbody tr th {\n",
       "        vertical-align: top;\n",
       "    }\n",
       "\n",
       "    .dataframe thead th {\n",
       "        text-align: right;\n",
       "    }\n",
       "</style>\n",
       "<table border=\"1\" class=\"dataframe\">\n",
       "  <thead>\n",
       "    <tr style=\"text-align: right;\">\n",
       "      <th></th>\n",
       "      <th>lat</th>\n",
       "      <th>lon</th>\n",
       "      <th>depth</th>\n",
       "      <th>mag</th>\n",
       "      <th>strike1</th>\n",
       "      <th>dip1</th>\n",
       "      <th>rake1</th>\n",
       "      <th>strike2</th>\n",
       "      <th>dip2</th>\n",
       "      <th>rake2</th>\n",
       "      <th>cluster</th>\n",
       "    </tr>\n",
       "  </thead>\n",
       "  <tbody>\n",
       "    <tr>\n",
       "      <th>count</th>\n",
       "      <td>9.000000</td>\n",
       "      <td>9.000000</td>\n",
       "      <td>9.000000</td>\n",
       "      <td>9.000000</td>\n",
       "      <td>0.0</td>\n",
       "      <td>0.0</td>\n",
       "      <td>0.0</td>\n",
       "      <td>0.0</td>\n",
       "      <td>0.0</td>\n",
       "      <td>0.0</td>\n",
       "      <td>9.000000</td>\n",
       "    </tr>\n",
       "    <tr>\n",
       "      <th>mean</th>\n",
       "      <td>-2.680000</td>\n",
       "      <td>118.546667</td>\n",
       "      <td>30.111111</td>\n",
       "      <td>3.311111</td>\n",
       "      <td>NaN</td>\n",
       "      <td>NaN</td>\n",
       "      <td>NaN</td>\n",
       "      <td>NaN</td>\n",
       "      <td>NaN</td>\n",
       "      <td>NaN</td>\n",
       "      <td>9986.000000</td>\n",
       "    </tr>\n",
       "    <tr>\n",
       "      <th>std</th>\n",
       "      <td>5.334681</td>\n",
       "      <td>10.668736</td>\n",
       "      <td>29.817966</td>\n",
       "      <td>0.706124</td>\n",
       "      <td>NaN</td>\n",
       "      <td>NaN</td>\n",
       "      <td>NaN</td>\n",
       "      <td>NaN</td>\n",
       "      <td>NaN</td>\n",
       "      <td>NaN</td>\n",
       "      <td>5477.225575</td>\n",
       "    </tr>\n",
       "    <tr>\n",
       "      <th>min</th>\n",
       "      <td>-9.600000</td>\n",
       "      <td>95.840000</td>\n",
       "      <td>10.000000</td>\n",
       "      <td>2.100000</td>\n",
       "      <td>NaN</td>\n",
       "      <td>NaN</td>\n",
       "      <td>NaN</td>\n",
       "      <td>NaN</td>\n",
       "      <td>NaN</td>\n",
       "      <td>NaN</td>\n",
       "      <td>1986.000000</td>\n",
       "    </tr>\n",
       "    <tr>\n",
       "      <th>25%</th>\n",
       "      <td>-8.010000</td>\n",
       "      <td>117.780000</td>\n",
       "      <td>10.000000</td>\n",
       "      <td>3.000000</td>\n",
       "      <td>NaN</td>\n",
       "      <td>NaN</td>\n",
       "      <td>NaN</td>\n",
       "      <td>NaN</td>\n",
       "      <td>NaN</td>\n",
       "      <td>NaN</td>\n",
       "      <td>5986.000000</td>\n",
       "    </tr>\n",
       "    <tr>\n",
       "      <th>50%</th>\n",
       "      <td>0.740000</td>\n",
       "      <td>121.940000</td>\n",
       "      <td>20.000000</td>\n",
       "      <td>3.300000</td>\n",
       "      <td>NaN</td>\n",
       "      <td>NaN</td>\n",
       "      <td>NaN</td>\n",
       "      <td>NaN</td>\n",
       "      <td>NaN</td>\n",
       "      <td>NaN</td>\n",
       "      <td>9986.000000</td>\n",
       "    </tr>\n",
       "    <tr>\n",
       "      <th>75%</th>\n",
       "      <td>1.600000</td>\n",
       "      <td>125.980000</td>\n",
       "      <td>24.000000</td>\n",
       "      <td>3.700000</td>\n",
       "      <td>NaN</td>\n",
       "      <td>NaN</td>\n",
       "      <td>NaN</td>\n",
       "      <td>NaN</td>\n",
       "      <td>NaN</td>\n",
       "      <td>NaN</td>\n",
       "      <td>13986.000000</td>\n",
       "    </tr>\n",
       "    <tr>\n",
       "      <th>max</th>\n",
       "      <td>2.600000</td>\n",
       "      <td>128.730000</td>\n",
       "      <td>88.000000</td>\n",
       "      <td>4.700000</td>\n",
       "      <td>NaN</td>\n",
       "      <td>NaN</td>\n",
       "      <td>NaN</td>\n",
       "      <td>NaN</td>\n",
       "      <td>NaN</td>\n",
       "      <td>NaN</td>\n",
       "      <td>17986.000000</td>\n",
       "    </tr>\n",
       "  </tbody>\n",
       "</table>\n",
       "</div>"
      ],
      "text/plain": [
       "            lat         lon      depth       mag  strike1  dip1  rake1  \\\n",
       "count  9.000000    9.000000   9.000000  9.000000      0.0   0.0    0.0   \n",
       "mean  -2.680000  118.546667  30.111111  3.311111      NaN   NaN    NaN   \n",
       "std    5.334681   10.668736  29.817966  0.706124      NaN   NaN    NaN   \n",
       "min   -9.600000   95.840000  10.000000  2.100000      NaN   NaN    NaN   \n",
       "25%   -8.010000  117.780000  10.000000  3.000000      NaN   NaN    NaN   \n",
       "50%    0.740000  121.940000  20.000000  3.300000      NaN   NaN    NaN   \n",
       "75%    1.600000  125.980000  24.000000  3.700000      NaN   NaN    NaN   \n",
       "max    2.600000  128.730000  88.000000  4.700000      NaN   NaN    NaN   \n",
       "\n",
       "       strike2  dip2  rake2       cluster  \n",
       "count      0.0   0.0    0.0      9.000000  \n",
       "mean       NaN   NaN    NaN   9986.000000  \n",
       "std        NaN   NaN    NaN   5477.225575  \n",
       "min        NaN   NaN    NaN   1986.000000  \n",
       "25%        NaN   NaN    NaN   5986.000000  \n",
       "50%        NaN   NaN    NaN   9986.000000  \n",
       "75%        NaN   NaN    NaN  13986.000000  \n",
       "max        NaN   NaN    NaN  17986.000000  "
      ]
     },
     "execution_count": 16,
     "metadata": {},
     "output_type": "execute_result"
    }
   ],
   "source": [
    "sample_sistematis.describe()"
   ]
  },
  {
   "cell_type": "markdown",
   "id": "3ff1bf1b",
   "metadata": {
    "id": "3ff1bf1b"
   },
   "source": [
    "Kode di atas menerapkan metode sampel sistematis. Pada dataframe yang sudah terurut, akan diambil secara acak titik mulai dari sampel dan interval sampel. Pada kode di atas, interval yang saya gunakan adalah sebanyak `10000`. Artinya, setelah ditentukan titik mulai secara acak, kode akan mengambil data pada titik tersebut, diikuti dengan data setelah interval tersebut. Hal tersebut dapat diperhatikan pada nomor data yang bertambah secara konstan."
   ]
  },
  {
   "cell_type": "markdown",
   "id": "Gpq6yw2B_zGY",
   "metadata": {
    "id": "Gpq6yw2B_zGY"
   },
   "source": [
    "## Penaksiran Parameter"
   ]
  },
  {
   "cell_type": "markdown",
   "id": "QB4ujQlV_2lT",
   "metadata": {
    "id": "QB4ujQlV_2lT"
   },
   "source": [
    "Pendugaan / penaksiran parameter bertujuan untuk memperoleh informasi tentang suatu populasi berdasarkan informasi yang diperoleh dari sampel."
   ]
  },
  {
   "cell_type": "markdown",
   "id": "OUV_yD3f_3gH",
   "metadata": {
    "id": "OUV_yD3f_3gH"
   },
   "source": [
    "### Penaksiran Titik"
   ]
  },
  {
   "cell_type": "markdown",
   "id": "eSElSr1j_4q6",
   "metadata": {
    "id": "eSElSr1j_4q6"
   },
   "source": [
    "Penaksiran Titik (Point Estimation):\n",
    "*   Mengestimasi suatu parameter menggunakan satu bilangan saja dengan menghitung rata-rata (mean) magnitudo gempa dari sampel yang tersedia."
   ]
  },
  {
   "cell_type": "code",
   "execution_count": 17,
   "id": "ITDli-2gjzHC",
   "metadata": {
    "colab": {
     "base_uri": "https://localhost:8080/"
    },
    "id": "ITDli-2gjzHC",
    "outputId": "b2111aa9-0e58-45c8-8b5e-e29cfd351ac4"
   },
   "outputs": [
    {
     "name": "stdout",
     "output_type": "stream",
     "text": [
      "Rata-rata Magnitude: 3.5300000000000002\n"
     ]
    }
   ],
   "source": [
    "# Menghitung rata-rata magnitudo\n",
    "df = pd.DataFrame(data).sample(n=10)\n",
    "mean_mag = df['mag'].mean()\n",
    "print(f\"Rata-rata Magnitude: {mean_mag}\")"
   ]
  },
  {
   "cell_type": "markdown",
   "id": "EkleZ3XFksTR",
   "metadata": {
    "id": "EkleZ3XFksTR"
   },
   "source": [
    "### Penaksiran Interval"
   ]
  },
  {
   "cell_type": "markdown",
   "id": "l3m9QNoTkvQ5",
   "metadata": {
    "id": "l3m9QNoTkvQ5"
   },
   "source": [
    "Penaksiran Interval (Interval Estimation)\n",
    "*   Mengestimasi parameter populasi dalam interval nilai tertentu untuk mengurangi kesalahan penaksiran dengan menghitung interval kepercayaan (confidence interval)\n",
    "dengan tingkat kepercayaan tertentu (misalnya 95%)."
   ]
  },
  {
   "cell_type": "markdown",
   "id": "hZPpryJryaUB",
   "metadata": {
    "id": "hZPpryJryaUB"
   },
   "source": [
    "#### Penaksiran Rata-Rata"
   ]
  },
  {
   "cell_type": "markdown",
   "id": "D922wqsgFfSr",
   "metadata": {
    "id": "D922wqsgFfSr"
   },
   "source": [
    "Menggunakan distribusi t untuk menghitung interval kepercayaan karena ukuran sampel yang kecil ( $< 30$ )"
   ]
  },
  {
   "cell_type": "code",
   "execution_count": 18,
   "id": "C5MeVaqBygkG",
   "metadata": {
    "colab": {
     "base_uri": "https://localhost:8080/"
    },
    "id": "C5MeVaqBygkG",
    "outputId": "bdd34112-58a9-446f-ee9c-8bc79068dc8a"
   },
   "outputs": [
    {
     "name": "stdout",
     "output_type": "stream",
     "text": [
      "Interval Kepercayaan (Confidence Level) 95%: (2.6773912814229743, 3.7426087185770256)\n"
     ]
    }
   ],
   "source": [
    "import scipy.stats as stats\n",
    "\n",
    "# Menghitung simpangan baku dan ukuran sampel\n",
    "df = pd.DataFrame(data).sample(n=10)\n",
    "mean_mag = df['mag'].mean()\n",
    "std_mag = df['mag'].std()\n",
    "n = len(df)\n",
    "\n",
    "# Menghitung interval kepercayaan 95%\n",
    "confidence_level = 0.95\n",
    "alpha = 1 - confidence_level\n",
    "\n",
    "# Nilai kritis t untuk ukuran sampel kecil\n",
    "t_critical = stats.t.ppf(1 - alpha/2, df=n-1)\n",
    "\n",
    "# Margin of error\n",
    "margin_of_error = t_critical * (std_mag / (n**0.5))\n",
    "\n",
    "# Interval kepercayaan\n",
    "confidence_interval = (mean_mag - margin_of_error, mean_mag + margin_of_error)\n",
    "\n",
    "print(f\"Interval Kepercayaan (Confidence Level) 95%: {confidence_interval}\")"
   ]
  },
  {
   "cell_type": "markdown",
   "id": "K6zxz3dlFuK_",
   "metadata": {
    "id": "K6zxz3dlFuK_"
   },
   "source": [
    "Menggunakan distribusi normal untuk menghitung interval kepercayaan karena ukuran sampel yang besar ( $\\geq 30$)"
   ]
  },
  {
   "cell_type": "code",
   "execution_count": 19,
   "id": "NjxwyQVHENRL",
   "metadata": {
    "colab": {
     "base_uri": "https://localhost:8080/"
    },
    "id": "NjxwyQVHENRL",
    "outputId": "ec0d3c66-9924-491b-f3b7-816b015c746e"
   },
   "outputs": [
    {
     "name": "stdout",
     "output_type": "stream",
     "text": [
      "Interval Kepercayaan (Confidence Level) 95%: (3.4598938146486495, 3.7641061853513507)\n"
     ]
    }
   ],
   "source": [
    "import scipy.stats as stats\n",
    "\n",
    "# Menghitung simpangan baku dan ukuran sampel\n",
    "df = pd.DataFrame(data).sample(n=100)\n",
    "mean_mag = df['mag'].mean()\n",
    "std_mag = df['mag'].std()\n",
    "n = len(df)\n",
    "\n",
    "# Menghitung interval kepercayaan 95%\n",
    "confidence_level = 0.95\n",
    "alpha = 1 - confidence_level\n",
    "\n",
    "# Nilai kritis z untuk ukuran sampel besar\n",
    "z_critical = stats.norm.ppf(1 - alpha/2)\n",
    "\n",
    "# Margin of error\n",
    "margin_of_error = z_critical * (std_mag / np.sqrt(n))\n",
    "\n",
    "# Interval kepercayaan\n",
    "confidence_interval = (mean_mag - margin_of_error, mean_mag + margin_of_error)\n",
    "\n",
    "print(f\"Interval Kepercayaan (Confidence Level) 95%: {confidence_interval}\")"
   ]
  },
  {
   "cell_type": "markdown",
   "id": "f6f42wRqj_ka",
   "metadata": {
    "id": "f6f42wRqj_ka"
   },
   "source": [
    "Dari hasil perhitungan diatas, didapatkan\n",
    "\n",
    "*   Confidence Level 95% untuk rata-rata magnitudo gempa.\n",
    "\n",
    "Karena interval kepercayaan untuk rata-rata magnitudo gempa tidak mencakup nilai nol, itu menunjukkan bahwa rata-rata magnitudo gempa yang diamati memiliki signifikansi statistik yang tinggi."
   ]
  },
  {
   "cell_type": "markdown",
   "id": "7IIjTVxR4MBK",
   "metadata": {
    "id": "7IIjTVxR4MBK"
   },
   "source": [
    "#### Penaksiran Selisih Rata-Rata"
   ]
  },
  {
   "cell_type": "markdown",
   "id": "sOwYrk8xGoVz",
   "metadata": {
    "id": "sOwYrk8xGoVz"
   },
   "source": [
    "Menggunakan distribusi t untuk menghitung interval kepercayaan karena ukuran sampel yang kecil ( $< 30$ )"
   ]
  },
  {
   "cell_type": "code",
   "execution_count": 20,
   "id": "X307jZKy4LiV",
   "metadata": {
    "colab": {
     "base_uri": "https://localhost:8080/"
    },
    "id": "X307jZKy4LiV",
    "outputId": "08441d63-daa0-4bb9-e039-67460d1740ea"
   },
   "outputs": [
    {
     "name": "stdout",
     "output_type": "stream",
     "text": [
      "Interval kepercayaan untuk selisih rata-rata: (-0.8207899745739724, 0.42078997457397116)\n"
     ]
    }
   ],
   "source": [
    "from scipy.stats import t\n",
    "\n",
    "# Misalkan kita memiliki dua kelompok sampel tinggi badan\n",
    "group1 = data[data['remark'] == 'Bali Region - Indonesia']['mag'].sample(n=10)\n",
    "group2 = data[data['remark'] == 'Minahassa Peninsula - Sulawesi']['mag'].sample(n=10)\n",
    "\n",
    "# Hitung rata-rata dan simpangan baku untuk kedua kelompok\n",
    "mean_group1 = np.mean(group1)\n",
    "mean_group2 = np.mean(group2)\n",
    "std_dev_group1 = np.std(group1, ddof=1)\n",
    "std_dev_group2 = np.std(group2, ddof=1)\n",
    "n1 = len(group1)\n",
    "n2 = len(group2)\n",
    "\n",
    "# Hitung selisih rata-rata\n",
    "mean_difference = mean_group1 - mean_group2\n",
    "\n",
    "# Hitung standard error dari selisih rata-rata\n",
    "standard_error = np.sqrt((std_dev_group1**2 / n1) + (std_dev_group2**2 / n2))\n",
    "\n",
    "# Hitung interval kepercayaan untuk selisih rata-rata\n",
    "t_critical = t.ppf(0.975, df=n1+n2-2)\n",
    "margin_of_error = t_critical * standard_error\n",
    "confidence_interval = (mean_difference - margin_of_error, mean_difference + margin_of_error)\n",
    "\n",
    "print(\"Interval kepercayaan untuk selisih rata-rata:\", confidence_interval)"
   ]
  },
  {
   "cell_type": "markdown",
   "id": "UdnZVGIPGqlu",
   "metadata": {
    "id": "UdnZVGIPGqlu"
   },
   "source": [
    "Menggunakan distribusi normal untuk menghitung interval kepercayaan karena ukuran sampel yang besar ( $\\geq 30$)"
   ]
  },
  {
   "cell_type": "code",
   "execution_count": 21,
   "id": "5mjM95LxGKd-",
   "metadata": {
    "colab": {
     "base_uri": "https://localhost:8080/"
    },
    "id": "5mjM95LxGKd-",
    "outputId": "d2a69be3-8a91-49d0-b9cd-abc166892191"
   },
   "outputs": [
    {
     "name": "stdout",
     "output_type": "stream",
     "text": [
      "Interval kepercayaan untuk selisih rata-rata: (-0.6415222107195775, -0.23247778928042126)\n"
     ]
    }
   ],
   "source": [
    "from scipy.stats import norm\n",
    "\n",
    "# Misalkan kita memiliki dua kelompok sampel tinggi badan\n",
    "group1 = data[data['remark'] == 'Bali Region - Indonesia']['mag'].sample(n=100)\n",
    "group2 = data[data['remark'] == 'Minahassa Peninsula - Sulawesi']['mag'].sample(n=100)\n",
    "\n",
    "# Hitung rata-rata dan simpangan baku untuk kedua kelompok\n",
    "mean_group1 = np.mean(group1)\n",
    "mean_group2 = np.mean(group2)\n",
    "std_dev_group1 = np.std(group1, ddof=1)\n",
    "std_dev_group2 = np.std(group2, ddof=1)\n",
    "n1 = len(group1)\n",
    "n2 = len(group2)\n",
    "\n",
    "# Hitung selisih rata-rata\n",
    "mean_difference = mean_group1 - mean_group2\n",
    "\n",
    "# Hitung standard error dari selisih rata-rata\n",
    "standard_error = np.sqrt((std_dev_group1**2 / n1) + (std_dev_group2**2 / n2))\n",
    "\n",
    "# Hitung interval kepercayaan untuk selisih rata-rata\n",
    "z_critical = norm.ppf(0.975)  # Nilai kritis z untuk tingkat kepercayaan 95%\n",
    "margin_of_error = z_critical * standard_error\n",
    "confidence_interval = (mean_difference - margin_of_error, mean_difference + margin_of_error)\n",
    "\n",
    "print(\"Interval kepercayaan untuk selisih rata-rata:\", confidence_interval)"
   ]
  },
  {
   "cell_type": "markdown",
   "id": "m5ZzEV844f5F",
   "metadata": {
    "id": "m5ZzEV844f5F"
   },
   "source": [
    "Dari hasil perhitungan diatas, didapatkan\n",
    "\n",
    "*   Confidence Level 95% untuk rata-rata magnitudo gempa.\n",
    "\n",
    "Dari hasil output, dapat disimpulkan rata-rata magnitudo gempa yang terjadi di group1 diperkirakan lebih rendah daripada pada group2."
   ]
  },
  {
   "cell_type": "markdown",
   "id": "4d68b3b9",
   "metadata": {
    "id": "4d68b3b9"
   },
   "source": [
    "## Uji Hipotesis"
   ]
  },
  {
   "cell_type": "markdown",
   "id": "f237bd97",
   "metadata": {
    "id": "f237bd97"
   },
   "source": [
    "Hipotesis merupakan pernyataan atau asumsi yang belum pasti kebenarannya. Uji hipotesis merupakan proses evaluasi hipotesis dgn mengumpulkan bukti berupa data-\n",
    "data yg menjadi dasar keputusan penolakan atau penerimaan hipotesis."
   ]
  },
  {
   "cell_type": "markdown",
   "id": "3e57c17a",
   "metadata": {
    "id": "3e57c17a"
   },
   "source": [
    "### Pengujian Satu Arah"
   ]
  },
  {
   "cell_type": "markdown",
   "id": "44300dc8",
   "metadata": {
    "id": "44300dc8"
   },
   "source": [
    "Dalam hipotesis, dinyatakan bahwa suatu variable mempengaruhi variable lain ke arah yg sama.  \n",
    "\n",
    "$H_0: \\mu = 2.0$  \n",
    "$H_1: \\mu > 2.0$"
   ]
  },
  {
   "cell_type": "markdown",
   "id": "959cacbb",
   "metadata": {
    "id": "959cacbb"
   },
   "source": [
    "#### Uji t Satu Sampel"
   ]
  },
  {
   "cell_type": "code",
   "execution_count": 22,
   "id": "77d0af83",
   "metadata": {
    "id": "77d0af83",
    "outputId": "0ead30c3-b6c1-49d8-d070-71710bb0ed1f"
   },
   "outputs": [
    {
     "name": "stdout",
     "output_type": "stream",
     "text": [
      "Mean sampel: 4.069999999999999\n",
      "\n",
      "Tolak H0: Rata-rata magnitudo lebih besar dari 2.0\n",
      "t-statistic: 7.823243723568618, p-value (one-sided): 1.322431683961201e-05\n"
     ]
    }
   ],
   "source": [
    "df = pd.DataFrame(data).sample(n=10)\n",
    "\n",
    "# Nilai rata-rata yang dihipotesiskan\n",
    "mu_0 = 2.0\n",
    "\n",
    "# Menghitung statistik uji t\n",
    "t_statistic, p_value = stats.ttest_1samp(df['mag'], mu_0)\n",
    "\n",
    "# Karena ini adalah pengujian satu arah (lebih besar dari), kita harus menyesuaikan p-value\n",
    "# Dengan membagi dua dan memeriksa tanda dari t_statistic\n",
    "if t_statistic > 0:\n",
    "    p_value_one_sided = p_value / 2\n",
    "else:\n",
    "    p_value_one_sided = 1 - (p_value / 2)\n",
    "\n",
    "# Tentukan tingkat signifikansi\n",
    "alpha = 0.05\n",
    "\n",
    "print(f\"Mean sampel: {df['mag'].mean()}\\n\")\n",
    "\n",
    "# Ambil keputusan\n",
    "if p_value_one_sided < alpha:\n",
    "    print(f\"Tolak H0: Rata-rata magnitudo lebih besar dari {mu_0}\")\n",
    "else:\n",
    "    print(f\"Terima H0: Rata-rata magnitudo tidak lebih besar dari lebih besar dari {mu_0}\")\n",
    "\n",
    "print(f\"t-statistic: {t_statistic}, p-value (one-sided): {p_value_one_sided}\")"
   ]
  },
  {
   "cell_type": "markdown",
   "id": "ead1363e",
   "metadata": {
    "id": "ead1363e"
   },
   "source": [
    "Pada uji t di atas, saya menggunakan sampel sebanyak 10 untuk kemudian dicari t statistic dan juga p value. Di sini saya menggunakan level of significance ($\\alpha$) sebanyak 0.05. Pada kode tersebut, kita perlu menggunakan if statement untuk menentukan tail dari dari uji t."
   ]
  },
  {
   "cell_type": "markdown",
   "id": "d22ebc52",
   "metadata": {
    "id": "d22ebc52"
   },
   "source": [
    "#### Uji z Satu Sampel"
   ]
  },
  {
   "cell_type": "code",
   "execution_count": 31,
   "id": "ba7bd127",
   "metadata": {
    "id": "ba7bd127",
    "outputId": "8a139949-fdc6-4fa4-cb4a-35383de78049"
   },
   "outputs": [
    {
     "name": "stdout",
     "output_type": "stream",
     "text": [
      "Mean sampel: 3.674999999999999\n",
      "\n",
      "Tolak H0: Rata-rata magnitudo lebih besar dari 2.0\n",
      "z-value: 67.63786824040993, p-value: 0.0\n"
     ]
    }
   ],
   "source": [
    "import pandas as pd\n",
    "import numpy as np\n",
    "from scipy import stats\n",
    "\n",
    "# DataFrame yang diambil sampelnya\n",
    "df = pd.DataFrame(data).sample(n=100)\n",
    "\n",
    "sample_mean = df['mag'].mean()\n",
    "population_mean = 2.0  # Nilai rata-rata yang dihipotesiskan\n",
    "sample_std = df['mag'].std()\n",
    "n = df.size\n",
    "\n",
    "# Menentukan tingkat signifikansi\n",
    "alpha = 0.05\n",
    "\n",
    "# Menghitung nilai uji z\n",
    "z = (sample_mean - population_mean) / (sample_std / (n**0.5))\n",
    "\n",
    "# Menghitung p-value untuk satu arah (one-tailed test)\n",
    "p_value = stats.norm.sf(z)  # sf: survival function, karena kita tertarik pada nilai yang lebih besar dari z\n",
    "\n",
    "print(f\"Mean sampel: {df['mag'].mean()}\\n\")\n",
    "\n",
    "# Ambil keputusan\n",
    "if p_value < alpha:\n",
    "    print(f\"Tolak H0: Rata-rata magnitudo lebih besar dari {population_mean}\")\n",
    "else:\n",
    "    print(f\"Terima H0: Rata-rata magnitudo tidak lebih besar dari lebih besar dari {population_mean}\")\n",
    "\n",
    "print(f\"z-value: {z}, p-value: {p_value}\")"
   ]
  },
  {
   "cell_type": "markdown",
   "id": "dbb49c57",
   "metadata": {
    "id": "dbb49c57"
   },
   "source": [
    "Pada uji z di atas, saya menggunakan sampel sebanyak 100 untuk kemudian dicari t statistic dan juga p value. Dalam kode tersebut, saya juga menyertakan mean dan juga standard deviasi atau simpangan baku. Di sini saya menggunakan level of significance ($\\alpha$) sebanyak 0.05. Pada kode tersebut, kita perlu melakukan `stats.norm.sf`, karena kita perlu mencari untuk nilai yang lebih besar dari z."
   ]
  },
  {
   "cell_type": "markdown",
   "id": "96843dca",
   "metadata": {
    "id": "96843dca"
   },
   "source": [
    "Pada uji t dan z satu arah di atas, kita menentukan hipotesis bahwa rata-rata magnitudo kurang dari 2.0. Selanjutnya, diperoleh bahwa p-value bernilai 0, akibatnya ketika p-value $< \\alpha$, maka akan menolak $H_0$, sehingga rata-rata magnitudo lebih besar dari 2.0."
   ]
  },
  {
   "cell_type": "markdown",
   "id": "0762959b",
   "metadata": {
    "id": "0762959b"
   },
   "source": [
    "### Pengujian Dua Arah"
   ]
  },
  {
   "cell_type": "markdown",
   "id": "2ddf7aec",
   "metadata": {
    "id": "2ddf7aec"
   },
   "source": [
    "Dalam hipotesis, dinyatakan bahwa suatu variable mempengaruhi variable lain namun arahnya tidak diketahui.\n",
    "\n",
    "$H_0: \\mu = 5.0$  \n",
    "$H_1: \\mu \\neq 5.0$\n",
    "\n",
    "$\\mu$ = Rata-rata magnitudo"
   ]
  },
  {
   "cell_type": "markdown",
   "id": "d0ae8880",
   "metadata": {
    "id": "d0ae8880"
   },
   "source": [
    "#### Uji t Satu Sampel"
   ]
  },
  {
   "cell_type": "code",
   "execution_count": 32,
   "id": "1c10eadf",
   "metadata": {
    "id": "1c10eadf",
    "outputId": "b2f9ed52-5b0b-4347-8ebe-9761454de650"
   },
   "outputs": [
    {
     "name": "stdout",
     "output_type": "stream",
     "text": [
      "Mean sampel: 3.45\n",
      "\n",
      "Tolak H0: Rata-rata magnitudo berbeda secara signifikan dari 5.0\n",
      "t-statistic: -5.704340749464788, p-value: 0.0002926952905823807\n"
     ]
    }
   ],
   "source": [
    "df = pd.DataFrame(data).sample(n=10)\n",
    "\n",
    "# Nilai rata-rata yang dihipotesiskan\n",
    "mu_0 = 5.0\n",
    "\n",
    "# Menghitung statistik uji t\n",
    "t_statistic, p_value = stats.ttest_1samp(df['mag'], mu_0)\n",
    "\n",
    "# Tentukan tingkat signifikansi\n",
    "alpha = 0.05\n",
    "\n",
    "print(f\"Mean sampel: {df['mag'].mean()}\\n\")\n",
    "\n",
    "# Ambil keputusan\n",
    "if p_value < alpha:\n",
    "    print(f\"Tolak H0: Rata-rata magnitudo berbeda secara signifikan dari {mu_0}\")\n",
    "else:\n",
    "    print(f\"Terima H0: Rata-rata magnitudo tidak berbeda secara signifikan dari {mu_0}\")\n",
    "\n",
    "print(f\"t-statistic: {t_statistic}, p-value: {p_value}\")"
   ]
  },
  {
   "cell_type": "markdown",
   "id": "234162da",
   "metadata": {
    "id": "234162da"
   },
   "source": [
    "Pada uji t di atas, saya menggunakan sampel sebanyak 10 untuk kemudian dicari t statistic dan juga p value. Di sini saya menggunakan level of significance ($\\alpha$) sebanyak 0.05."
   ]
  },
  {
   "cell_type": "markdown",
   "id": "9a7f2b5a",
   "metadata": {
    "id": "9a7f2b5a"
   },
   "source": [
    "#### Uji z Satu Sampel"
   ]
  },
  {
   "cell_type": "code",
   "execution_count": 33,
   "id": "0b82b38a",
   "metadata": {
    "id": "0b82b38a",
    "outputId": "287fd155-aa98-4c0a-daa1-019d915b0481"
   },
   "outputs": [
    {
     "name": "stdout",
     "output_type": "stream",
     "text": [
      "Mean sampel: 3.5759999999999996\n",
      "\n",
      "Tolak H0: Rata-rata magnitudo berbeda secara signifikan dari 5.0\n",
      "z-value: -61.85850703322185, p-value: 0.0\n"
     ]
    }
   ],
   "source": [
    "df = pd.DataFrame(data).sample(n=100)\n",
    "\n",
    "sample_mean = df['mag'].mean()\n",
    "population_mean = 5.0  # Nilai rata-rata yang dihipotesiskan\n",
    "sample_std = df['mag'].std()\n",
    "n = df.size\n",
    "\n",
    "# Menentukan tingkat signifikansi\n",
    "alpha = 0.05\n",
    "\n",
    "# Menghitung nilai uji z\n",
    "z = (sample_mean - population_mean) / (sample_std / (n**0.5))\n",
    "\n",
    "# Menghitung p-value\n",
    "p_value = stats.norm.sf(abs(z)) * 2\n",
    "\n",
    "print(f\"Mean sampel: {df['mag'].mean()}\\n\")\n",
    "\n",
    "# Ambil keputusan\n",
    "if p_value < alpha:\n",
    "    print(f\"Tolak H0: Rata-rata magnitudo berbeda secara signifikan dari {population_mean}\")\n",
    "else:\n",
    "    print(f\"Terima H0: Rata-rata magnitudo tidak berbeda secara signifikan dari {population_mean}\")\n",
    "\n",
    "print(f\"z-value: {z}, p-value: {p_value}\")"
   ]
  },
  {
   "cell_type": "markdown",
   "id": "ebf90007",
   "metadata": {
    "id": "ebf90007"
   },
   "source": [
    "Pada uji z di atas, saya menggunakan sampel sebanyak 100 untuk kemudian dicari t statistic dan juga p value. Dalam kode tersebut, saya juga menyertakan mean dan juga standard deviasi atau simpangan baku. Di sini saya menggunakan level of significance ($\\alpha$) sebanyak 0.05."
   ]
  },
  {
   "cell_type": "markdown",
   "id": "95530ae8",
   "metadata": {
    "id": "95530ae8"
   },
   "source": [
    "Pada pengujian hipotesis dua arah di atas, kita menentukan hipotesis bahwa rata-rata magnitudo sama dengan 5.0. Selanjutnya, diperoleh bahwa p-value bernilai 0, akibatnya ketika p-value $< \\alpha$, maka akan menolak $H_0$."
   ]
  },
  {
   "cell_type": "markdown",
   "id": "6fede26d",
   "metadata": {
    "id": "6fede26d"
   },
   "source": [
    "### Pengujian Dua Sampel"
   ]
  },
  {
   "cell_type": "markdown",
   "id": "28f97181",
   "metadata": {
    "id": "28f97181"
   },
   "source": [
    "$H_0: \\mu_1 = \\mu_2$  \n",
    "$H_1: \\mu_1 \\neq \\mu_2$"
   ]
  },
  {
   "cell_type": "markdown",
   "id": "7b82d933",
   "metadata": {
    "id": "7b82d933"
   },
   "source": [
    "#### Uji t Dua Sampel"
   ]
  },
  {
   "cell_type": "code",
   "execution_count": 26,
   "id": "379f0d2e",
   "metadata": {
    "id": "379f0d2e",
    "outputId": "753f5010-a42f-49b7-cd6d-4823255c150b"
   },
   "outputs": [
    {
     "name": "stdout",
     "output_type": "stream",
     "text": [
      "Statistik Deskriptif Group 1 (Southern Sumatra - Indonesia):\n",
      "count    10.000000\n",
      "mean      3.880000\n",
      "std       1.063328\n",
      "min       2.700000\n",
      "25%       2.900000\n",
      "50%       3.750000\n",
      "75%       4.675000\n",
      "max       5.800000\n",
      "Name: mag, dtype: float64\n",
      "\n",
      "Statistik Deskriptif Group 2 (Sulawesi - Indonesia):\n",
      "count    10.000000\n",
      "mean      3.130000\n",
      "std       0.388873\n",
      "min       2.500000\n",
      "25%       2.950000\n",
      "50%       3.200000\n",
      "75%       3.475000\n",
      "max       3.500000\n",
      "Name: mag, dtype: float64\n",
      "\n",
      "Varians Group 1: 1.1306666666666667\n",
      "Varians Group 2: 0.1512222222222222\n",
      "Terima H0: Tidak ada bukti yang cukup untuk mengatakan rata-rata magnitudo berbeda antara kedua kelompok\n",
      "\n",
      "t-statistic: 2.094768679449815, p-value: 0.05934706676550783\n"
     ]
    }
   ],
   "source": [
    "df = pd.DataFrame(data)\n",
    "\n",
    "# Memisahkan data berdasarkan kolom 'remark'\n",
    "group1 = df[df['remark'] == 'Southern Sumatra - Indonesia']['mag'].sample(n=10)\n",
    "group2 = df[df['remark'] == 'Sulawesi - Indonesia']['mag'].sample(n=10)\n",
    "\n",
    "# Menghitung statistik deskriptif\n",
    "print(\"Statistik Deskriptif Group 1 (Southern Sumatra - Indonesia):\")\n",
    "print(group1.describe())\n",
    "\n",
    "print(\"\\nStatistik Deskriptif Group 2 (Sulawesi - Indonesia):\")\n",
    "print(group2.describe())\n",
    "\n",
    "# Menghitung varians dari kedua kelompok\n",
    "var_group1 = group1.var()\n",
    "var_group2 = group2.var()\n",
    "print(f\"\\nVarians Group 1: {var_group1}\")\n",
    "print(f\"Varians Group 2: {var_group2}\")\n",
    "\n",
    "# Menghitung statistik uji t dua sampel\n",
    "t_statistic, p_value = stats.ttest_ind(group1, group2, equal_var=False)\n",
    "\n",
    "# Tentukan tingkat signifikansi\n",
    "alpha = 0.05\n",
    "\n",
    "# Ambil keputusan\n",
    "if p_value < alpha:\n",
    "    print(\"Tolak H0: Rata-rata magnitudo berbeda secara signifikan antara kedua kelompok\")\n",
    "else:\n",
    "    print(\"Terima H0: Tidak ada bukti yang cukup untuk mengatakan rata-rata magnitudo berbeda antara kedua kelompok\")\n",
    "\n",
    "print(f\"\\nt-statistic: {t_statistic}, p-value: {p_value}\")\n"
   ]
  },
  {
   "cell_type": "markdown",
   "id": "bb436a85",
   "metadata": {
    "id": "bb436a85"
   },
   "source": [
    "Pada kode di atas, saya mengambil data dengan `remark` berupa `Southern Sumatra - Indonesia` dan `Sulawesi - Indonesia` dengan masing-masing sebanyak 10 sampel. Di sini saya menggunakan level of significance ($\\alpha$) sebanyak 0.05 untuk bisa menentukan uji t."
   ]
  },
  {
   "cell_type": "markdown",
   "id": "f546f398",
   "metadata": {
    "id": "f546f398"
   },
   "source": [
    "#### Uji z Dua Sampel"
   ]
  },
  {
   "cell_type": "code",
   "execution_count": 27,
   "id": "767e4260",
   "metadata": {
    "id": "767e4260",
    "outputId": "1fa613e3-2af1-4f72-8e97-0c126a38fdc6"
   },
   "outputs": [
    {
     "name": "stdout",
     "output_type": "stream",
     "text": [
      "Tolak H0: Rata-rata magnitudo berbeda secara signifikan antara kedua kelompok\n",
      "z-value: 5.0501122567440655, p-value: 4.4155050804723397e-07\n"
     ]
    }
   ],
   "source": [
    "# Memisahkan data berdasarkan kolom 'remark'\n",
    "group1 = df[df['remark'] == 'Southern Sumatra - Indonesia']['mag'].sample(n=100)\n",
    "group2 = df[df['remark'] == 'Sulawesi - Indonesia']['mag'].sample(n=100)\n",
    "\n",
    "group1_mean = group1.mean()\n",
    "group2_mean = group2.mean()\n",
    "group1_std = group1.std()\n",
    "group2_std = group2.std()\n",
    "n1 = group1.size\n",
    "n2 = group2.size\n",
    "\n",
    "# Menentukan tingkat signifikansi\n",
    "alpha = 0.05\n",
    "\n",
    "# Menghitung nilai uji z\n",
    "z = (group1_mean - group2_mean) / ((group1_std**2 / n1) + (group2_std**2 / n2))**0.5\n",
    "\n",
    "# Menghitung p-value\n",
    "p_value = stats.norm.sf(abs(z)) * 2\n",
    "\n",
    "# Ambil keputusan\n",
    "if p_value < alpha:\n",
    "    print(\"Tolak H0: Rata-rata magnitudo berbeda secara signifikan antara kedua kelompok\")\n",
    "else:\n",
    "    print(\"Terima H0: Tidak ada bukti yang cukup untuk mengatakan rata-rata magnitudo berbeda antara kedua kelompok\")\n",
    "\n",
    "print(f\"z-value: {z}, p-value: {p_value}\")"
   ]
  },
  {
   "cell_type": "markdown",
   "id": "5e3fe46e",
   "metadata": {
    "id": "5e3fe46e"
   },
   "source": [
    "Pada kode di atas, saya mengambil data dengan `remark` berupa `Southern Sumatra - Indonesia` dan `Sulawesi - Indonesia` dengan masing-masing sebanyak 100 sampel. Di sini saya menggunakan level of significance ($\\alpha$) sebanyak 0.05 untuk bisa menentukan uji z. Pada kode tersebut, saya juga menyertakan m"
   ]
  },
  {
   "cell_type": "markdown",
   "id": "f545858c",
   "metadata": {
    "id": "f545858c"
   },
   "source": [
    "Pada pengujian hipotesis dua sampel di atas, kita menentukan hipotesis bahwa rata-rata magnitudo antara dua sampel yang telah ditentukan adalah sama. Dalam kode tersebut, kita memilih sampel dikelompokkan berdasarkan `remark` dan akan diambil sebanyak 10 data sebagai sampel secara acak untuk uji t, dan pada uji z sebanyak 100. Selanjutnya, diperoleh bahwa p-value bernilai sangat kecil, akibatnya ketika p-value $< \\alpha$, maka akan menolak $H_0$."
   ]
  },
  {
   "cell_type": "markdown",
   "id": "TVixl29U8XMn",
   "metadata": {
    "id": "TVixl29U8XMn"
   },
   "source": [
    "### Pengujian Chi-Square"
   ]
  },
  {
   "cell_type": "markdown",
   "id": "w8O1_m88-DOh",
   "metadata": {
    "id": "w8O1_m88-DOh"
   },
   "source": [
    "$H_{0}$ : Terdapat perbedaan signifikan dalam distribusi dalam distribusi magnitudo gempa \\\\\n",
    "$H_{1}$ : Tidak terdapat perbedaan signifikan dalam distribusi dalam distribusi magnitudo gempa"
   ]
  },
  {
   "cell_type": "markdown",
   "id": "HJz16Kj6-Dsw",
   "metadata": {
    "id": "HJz16Kj6-Dsw"
   },
   "source": [
    "Mengelompokkan magnitudo menjadi tiga kategori:\n",
    "\n",
    "*   Rendah ($< 4.0$)\n",
    "*   Sedang ($4.0 - 6.0$)\n",
    "*   Tinggi ($> 6.0$)\n",
    "\n",
    "Hitung frekuensi untuk masing-masing kategori magnitudo"
   ]
  },
  {
   "cell_type": "code",
   "execution_count": 28,
   "id": "s62aNVMjAKOD",
   "metadata": {
    "colab": {
     "base_uri": "https://localhost:8080/"
    },
    "id": "s62aNVMjAKOD",
    "outputId": "a5dfb0f0-5e18-4b64-a696-b508c91fc48a"
   },
   "outputs": [
    {
     "name": "stdout",
     "output_type": "stream",
     "text": [
      "col_0         count\n",
      "Mag_Category       \n",
      "Rendah           71\n",
      "Sedang           28\n",
      "Tinggi            1\n"
     ]
    }
   ],
   "source": [
    "df = pd.DataFrame(data).sample(n=100)\n",
    "\n",
    "# Define magnitude categories\n",
    "bins = [0, 4.0, 6.0, float('inf')]\n",
    "labels = ['Rendah', 'Sedang', 'Tinggi']\n",
    "\n",
    "# Create a new column for magnitude category\n",
    "df['Mag_Category'] = pd.cut(df['mag'], bins=bins, labels=labels)\n",
    "\n",
    "# Create a contingency table\n",
    "contingency_table = pd.crosstab(df['Mag_Category'], columns='count')\n",
    "print(contingency_table)"
   ]
  },
  {
   "cell_type": "code",
   "execution_count": 29,
   "id": "vaPjESm09J0N",
   "metadata": {
    "colab": {
     "base_uri": "https://localhost:8080/"
    },
    "id": "vaPjESm09J0N",
    "outputId": "06079146-13ac-4ec1-c3b9-4e34ae7fe70e"
   },
   "outputs": [
    {
     "name": "stdout",
     "output_type": "stream",
     "text": [
      "Chi-Square Stat: 74.77999999999999, p-value: 5.777358555430295e-17\n"
     ]
    }
   ],
   "source": [
    "from scipy.stats import chisquare\n",
    "\n",
    "# Observed frequencies\n",
    "observed_frequencies = contingency_table['count'].values\n",
    "\n",
    "# Expected frequencies (assuming equal distribution)\n",
    "expected_frequencies = [sum(observed_frequencies) / len(observed_frequencies)] * len(observed_frequencies)\n",
    "\n",
    "# Perform Chi-Square test\n",
    "chi2_stat, p_val = chisquare(observed_frequencies, f_exp=expected_frequencies)\n",
    "print(f'Chi-Square Stat: {chi2_stat}, p-value: {p_val}')"
   ]
  },
  {
   "cell_type": "code",
   "execution_count": 30,
   "id": "YUM0tYaT9UAJ",
   "metadata": {
    "colab": {
     "base_uri": "https://localhost:8080/"
    },
    "id": "YUM0tYaT9UAJ",
    "outputId": "c135ec7c-d816-4354-d258-8d737c4233c3"
   },
   "outputs": [
    {
     "name": "stdout",
     "output_type": "stream",
     "text": [
      "Tolak H0: Terdapat perbedaan signifikan dalam distribusi magnitudo gempa.\n"
     ]
    }
   ],
   "source": [
    "alpha = 0.05\n",
    "if p_val < alpha:\n",
    "    print(\"Tolak H0: Terdapat perbedaan signifikan dalam distribusi magnitudo gempa.\")\n",
    "else:\n",
    "    print(\"Terima H0: Tidak terdapat perbedaan signifikan dalam distribusi magnitudo gempa.\")"
   ]
  },
  {
   "cell_type": "markdown",
   "id": "lL2iJa7H92_x",
   "metadata": {
    "id": "lL2iJa7H92_x"
   },
   "source": [
    "Berdasarkan output dari kode, didapatkan nilai dari chi-square dan p_val, karena nilai p_val lebih kecil dari alpha dapat disimpulkan \"Terdapat perbedaan signifikan dalam distribusi magnitudo gempa\" (Tolak H0) dan terdapat cukup bukti statistik untuk menyimpulkan bahwa terdapat perbedaan signifikan dalam distribusi magnitudo gempa."
   ]
  }
 ],
 "metadata": {
  "colab": {
   "provenance": []
  },
  "kernelspec": {
   "display_name": "Python 3 (ipykernel)",
   "language": "python",
   "name": "python3"
  },
  "language_info": {
   "codemirror_mode": {
    "name": "ipython",
    "version": 3
   },
   "file_extension": ".py",
   "mimetype": "text/x-python",
   "name": "python",
   "nbconvert_exporter": "python",
   "pygments_lexer": "ipython3",
   "version": "3.11.4"
  }
 },
 "nbformat": 4,
 "nbformat_minor": 5
}
